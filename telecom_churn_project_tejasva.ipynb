{
 "cells": [
  {
   "cell_type": "markdown",
   "id": "2aef0b9c",
   "metadata": {},
   "source": [
    "# CUSTOMERS REQUIREMENT || PROJECT GOAL || PROBLEM STATEMENT"
   ]
  },
  {
   "cell_type": "raw",
   "id": "e91c01d5",
   "metadata": {},
   "source": [
    "We have to provide the solution as per our customers requirement."
   ]
  },
  {
   "cell_type": "markdown",
   "id": "1e8f09ba",
   "metadata": {},
   "source": [
    "We have identify the churn rate with respect to customers how many customers using this service or how many customers \n",
    "using another operator and why there are going to that side and what will give too the recommendation to customers again they will take this service only"
   ]
  },
  {
   "cell_type": "code",
   "execution_count": 1,
   "id": "f328a7b2",
   "metadata": {},
   "outputs": [],
   "source": [
    "import numpy as np \n",
    "import pandas as pd \n",
    "import matplotlib.pyplot as plt \n",
    "import seaborn as sns "
   ]
  },
  {
   "cell_type": "code",
   "execution_count": 2,
   "id": "7d3965de",
   "metadata": {},
   "outputs": [],
   "source": [
    "data = pd.read_csv(r'C:\\Users\\Tejasva\\Downloads\\telecom_churn_dataset.csv', header=None)"
   ]
  },
  {
   "cell_type": "code",
   "execution_count": 3,
   "id": "61f6e9ec",
   "metadata": {},
   "outputs": [],
   "source": [
    "data.columns=['State','Account Length','Area code','Phone','International plan','VMail plan','VMail message','Day mins',\n",
    "              'Day calls','Day charge','Eve mins','Eve calls','Eve charge','Night mins','Night calls','Night charge',\n",
    "             'International mins','International calls','International charge','CustServ charge','Churn']"
   ]
  },
  {
   "cell_type": "code",
   "execution_count": 4,
   "id": "55ccc31a",
   "metadata": {},
   "outputs": [
    {
     "data": {
      "text/html": [
       "<div>\n",
       "<style scoped>\n",
       "    .dataframe tbody tr th:only-of-type {\n",
       "        vertical-align: middle;\n",
       "    }\n",
       "\n",
       "    .dataframe tbody tr th {\n",
       "        vertical-align: top;\n",
       "    }\n",
       "\n",
       "    .dataframe thead th {\n",
       "        text-align: right;\n",
       "    }\n",
       "</style>\n",
       "<table border=\"1\" class=\"dataframe\">\n",
       "  <thead>\n",
       "    <tr style=\"text-align: right;\">\n",
       "      <th></th>\n",
       "      <th>State</th>\n",
       "      <th>Account Length</th>\n",
       "      <th>Area code</th>\n",
       "      <th>Phone</th>\n",
       "      <th>International plan</th>\n",
       "      <th>VMail plan</th>\n",
       "      <th>VMail message</th>\n",
       "      <th>Day mins</th>\n",
       "      <th>Day calls</th>\n",
       "      <th>Day charge</th>\n",
       "      <th>...</th>\n",
       "      <th>Eve calls</th>\n",
       "      <th>Eve charge</th>\n",
       "      <th>Night mins</th>\n",
       "      <th>Night calls</th>\n",
       "      <th>Night charge</th>\n",
       "      <th>International mins</th>\n",
       "      <th>International calls</th>\n",
       "      <th>International charge</th>\n",
       "      <th>CustServ charge</th>\n",
       "      <th>Churn</th>\n",
       "    </tr>\n",
       "  </thead>\n",
       "  <tbody>\n",
       "    <tr>\n",
       "      <th>0</th>\n",
       "      <td>KS</td>\n",
       "      <td>128</td>\n",
       "      <td>415</td>\n",
       "      <td>382-4657</td>\n",
       "      <td>no</td>\n",
       "      <td>yes</td>\n",
       "      <td>25</td>\n",
       "      <td>265.1</td>\n",
       "      <td>110</td>\n",
       "      <td>45.07</td>\n",
       "      <td>...</td>\n",
       "      <td>99</td>\n",
       "      <td>16.78</td>\n",
       "      <td>244.7</td>\n",
       "      <td>91</td>\n",
       "      <td>11.01</td>\n",
       "      <td>10.0</td>\n",
       "      <td>3</td>\n",
       "      <td>2.70</td>\n",
       "      <td>1</td>\n",
       "      <td>0</td>\n",
       "    </tr>\n",
       "    <tr>\n",
       "      <th>1</th>\n",
       "      <td>OH</td>\n",
       "      <td>107</td>\n",
       "      <td>415</td>\n",
       "      <td>371-7191</td>\n",
       "      <td>no</td>\n",
       "      <td>yes</td>\n",
       "      <td>26</td>\n",
       "      <td>161.6</td>\n",
       "      <td>123</td>\n",
       "      <td>27.47</td>\n",
       "      <td>...</td>\n",
       "      <td>103</td>\n",
       "      <td>16.62</td>\n",
       "      <td>254.4</td>\n",
       "      <td>103</td>\n",
       "      <td>11.45</td>\n",
       "      <td>13.7</td>\n",
       "      <td>3</td>\n",
       "      <td>3.70</td>\n",
       "      <td>1</td>\n",
       "      <td>0</td>\n",
       "    </tr>\n",
       "    <tr>\n",
       "      <th>2</th>\n",
       "      <td>NJ</td>\n",
       "      <td>137</td>\n",
       "      <td>415</td>\n",
       "      <td>358-1921</td>\n",
       "      <td>no</td>\n",
       "      <td>no</td>\n",
       "      <td>0</td>\n",
       "      <td>243.4</td>\n",
       "      <td>114</td>\n",
       "      <td>41.38</td>\n",
       "      <td>...</td>\n",
       "      <td>110</td>\n",
       "      <td>10.30</td>\n",
       "      <td>162.6</td>\n",
       "      <td>104</td>\n",
       "      <td>7.32</td>\n",
       "      <td>12.2</td>\n",
       "      <td>5</td>\n",
       "      <td>3.29</td>\n",
       "      <td>0</td>\n",
       "      <td>0</td>\n",
       "    </tr>\n",
       "    <tr>\n",
       "      <th>3</th>\n",
       "      <td>OH</td>\n",
       "      <td>84</td>\n",
       "      <td>408</td>\n",
       "      <td>375-9999</td>\n",
       "      <td>yes</td>\n",
       "      <td>no</td>\n",
       "      <td>0</td>\n",
       "      <td>299.4</td>\n",
       "      <td>71</td>\n",
       "      <td>50.90</td>\n",
       "      <td>...</td>\n",
       "      <td>88</td>\n",
       "      <td>5.26</td>\n",
       "      <td>196.9</td>\n",
       "      <td>89</td>\n",
       "      <td>8.86</td>\n",
       "      <td>6.6</td>\n",
       "      <td>7</td>\n",
       "      <td>1.78</td>\n",
       "      <td>2</td>\n",
       "      <td>0</td>\n",
       "    </tr>\n",
       "    <tr>\n",
       "      <th>4</th>\n",
       "      <td>OK</td>\n",
       "      <td>75</td>\n",
       "      <td>415</td>\n",
       "      <td>330-6626</td>\n",
       "      <td>yes</td>\n",
       "      <td>no</td>\n",
       "      <td>0</td>\n",
       "      <td>166.7</td>\n",
       "      <td>113</td>\n",
       "      <td>28.34</td>\n",
       "      <td>...</td>\n",
       "      <td>122</td>\n",
       "      <td>12.61</td>\n",
       "      <td>186.9</td>\n",
       "      <td>121</td>\n",
       "      <td>8.41</td>\n",
       "      <td>10.1</td>\n",
       "      <td>3</td>\n",
       "      <td>2.73</td>\n",
       "      <td>3</td>\n",
       "      <td>0</td>\n",
       "    </tr>\n",
       "    <tr>\n",
       "      <th>...</th>\n",
       "      <td>...</td>\n",
       "      <td>...</td>\n",
       "      <td>...</td>\n",
       "      <td>...</td>\n",
       "      <td>...</td>\n",
       "      <td>...</td>\n",
       "      <td>...</td>\n",
       "      <td>...</td>\n",
       "      <td>...</td>\n",
       "      <td>...</td>\n",
       "      <td>...</td>\n",
       "      <td>...</td>\n",
       "      <td>...</td>\n",
       "      <td>...</td>\n",
       "      <td>...</td>\n",
       "      <td>...</td>\n",
       "      <td>...</td>\n",
       "      <td>...</td>\n",
       "      <td>...</td>\n",
       "      <td>...</td>\n",
       "      <td>...</td>\n",
       "    </tr>\n",
       "    <tr>\n",
       "      <th>4612</th>\n",
       "      <td>NY</td>\n",
       "      <td>57</td>\n",
       "      <td>510</td>\n",
       "      <td>345-7512</td>\n",
       "      <td>no</td>\n",
       "      <td>yes</td>\n",
       "      <td>25</td>\n",
       "      <td>144.0</td>\n",
       "      <td>81</td>\n",
       "      <td>24.48</td>\n",
       "      <td>...</td>\n",
       "      <td>112</td>\n",
       "      <td>15.91</td>\n",
       "      <td>158.6</td>\n",
       "      <td>122</td>\n",
       "      <td>7.14</td>\n",
       "      <td>8.5</td>\n",
       "      <td>6</td>\n",
       "      <td>2.30</td>\n",
       "      <td>3</td>\n",
       "      <td>0</td>\n",
       "    </tr>\n",
       "    <tr>\n",
       "      <th>4613</th>\n",
       "      <td>NM</td>\n",
       "      <td>177</td>\n",
       "      <td>408</td>\n",
       "      <td>343-6820</td>\n",
       "      <td>no</td>\n",
       "      <td>yes</td>\n",
       "      <td>29</td>\n",
       "      <td>189.0</td>\n",
       "      <td>91</td>\n",
       "      <td>32.13</td>\n",
       "      <td>...</td>\n",
       "      <td>96</td>\n",
       "      <td>25.76</td>\n",
       "      <td>163.6</td>\n",
       "      <td>116</td>\n",
       "      <td>7.36</td>\n",
       "      <td>15.7</td>\n",
       "      <td>1</td>\n",
       "      <td>4.24</td>\n",
       "      <td>3</td>\n",
       "      <td>0</td>\n",
       "    </tr>\n",
       "    <tr>\n",
       "      <th>4614</th>\n",
       "      <td>VT</td>\n",
       "      <td>67</td>\n",
       "      <td>408</td>\n",
       "      <td>338-4794</td>\n",
       "      <td>no</td>\n",
       "      <td>yes</td>\n",
       "      <td>33</td>\n",
       "      <td>127.5</td>\n",
       "      <td>126</td>\n",
       "      <td>21.68</td>\n",
       "      <td>...</td>\n",
       "      <td>129</td>\n",
       "      <td>25.17</td>\n",
       "      <td>200.9</td>\n",
       "      <td>91</td>\n",
       "      <td>9.04</td>\n",
       "      <td>13.0</td>\n",
       "      <td>3</td>\n",
       "      <td>3.51</td>\n",
       "      <td>1</td>\n",
       "      <td>0</td>\n",
       "    </tr>\n",
       "    <tr>\n",
       "      <th>4615</th>\n",
       "      <td>MI</td>\n",
       "      <td>98</td>\n",
       "      <td>415</td>\n",
       "      <td>355-8388</td>\n",
       "      <td>no</td>\n",
       "      <td>yes</td>\n",
       "      <td>23</td>\n",
       "      <td>168.9</td>\n",
       "      <td>98</td>\n",
       "      <td>28.71</td>\n",
       "      <td>...</td>\n",
       "      <td>117</td>\n",
       "      <td>19.24</td>\n",
       "      <td>165.5</td>\n",
       "      <td>96</td>\n",
       "      <td>7.45</td>\n",
       "      <td>14.3</td>\n",
       "      <td>3</td>\n",
       "      <td>3.86</td>\n",
       "      <td>0</td>\n",
       "      <td>0</td>\n",
       "    </tr>\n",
       "    <tr>\n",
       "      <th>4616</th>\n",
       "      <td>IN</td>\n",
       "      <td>140</td>\n",
       "      <td>415</td>\n",
       "      <td>409-6884</td>\n",
       "      <td>no</td>\n",
       "      <td>no</td>\n",
       "      <td>0</td>\n",
       "      <td>204.7</td>\n",
       "      <td>100</td>\n",
       "      <td>34.80</td>\n",
       "      <td>...</td>\n",
       "      <td>107</td>\n",
       "      <td>10.78</td>\n",
       "      <td>202.8</td>\n",
       "      <td>115</td>\n",
       "      <td>9.13</td>\n",
       "      <td>12.1</td>\n",
       "      <td>4</td>\n",
       "      <td>3.27</td>\n",
       "      <td>2</td>\n",
       "      <td>0</td>\n",
       "    </tr>\n",
       "  </tbody>\n",
       "</table>\n",
       "<p>4617 rows × 21 columns</p>\n",
       "</div>"
      ],
      "text/plain": [
       "     State  Account Length  Area code      Phone International plan  \\\n",
       "0       KS             128        415   382-4657                 no   \n",
       "1       OH             107        415   371-7191                 no   \n",
       "2       NJ             137        415   358-1921                 no   \n",
       "3       OH              84        408   375-9999                yes   \n",
       "4       OK              75        415   330-6626                yes   \n",
       "...    ...             ...        ...        ...                ...   \n",
       "4612    NY              57        510   345-7512                 no   \n",
       "4613    NM             177        408   343-6820                 no   \n",
       "4614    VT              67        408   338-4794                 no   \n",
       "4615    MI              98        415   355-8388                 no   \n",
       "4616    IN             140        415   409-6884                 no   \n",
       "\n",
       "     VMail plan  VMail message  Day mins  Day calls  Day charge  ...  \\\n",
       "0           yes             25     265.1        110       45.07  ...   \n",
       "1           yes             26     161.6        123       27.47  ...   \n",
       "2            no              0     243.4        114       41.38  ...   \n",
       "3            no              0     299.4         71       50.90  ...   \n",
       "4            no              0     166.7        113       28.34  ...   \n",
       "...         ...            ...       ...        ...         ...  ...   \n",
       "4612        yes             25     144.0         81       24.48  ...   \n",
       "4613        yes             29     189.0         91       32.13  ...   \n",
       "4614        yes             33     127.5        126       21.68  ...   \n",
       "4615        yes             23     168.9         98       28.71  ...   \n",
       "4616         no              0     204.7        100       34.80  ...   \n",
       "\n",
       "      Eve calls  Eve charge  Night mins  Night calls  Night charge  \\\n",
       "0            99       16.78       244.7           91         11.01   \n",
       "1           103       16.62       254.4          103         11.45   \n",
       "2           110       10.30       162.6          104          7.32   \n",
       "3            88        5.26       196.9           89          8.86   \n",
       "4           122       12.61       186.9          121          8.41   \n",
       "...         ...         ...         ...          ...           ...   \n",
       "4612        112       15.91       158.6          122          7.14   \n",
       "4613         96       25.76       163.6          116          7.36   \n",
       "4614        129       25.17       200.9           91          9.04   \n",
       "4615        117       19.24       165.5           96          7.45   \n",
       "4616        107       10.78       202.8          115          9.13   \n",
       "\n",
       "      International mins  International calls  International charge  \\\n",
       "0                   10.0                    3                  2.70   \n",
       "1                   13.7                    3                  3.70   \n",
       "2                   12.2                    5                  3.29   \n",
       "3                    6.6                    7                  1.78   \n",
       "4                   10.1                    3                  2.73   \n",
       "...                  ...                  ...                   ...   \n",
       "4612                 8.5                    6                  2.30   \n",
       "4613                15.7                    1                  4.24   \n",
       "4614                13.0                    3                  3.51   \n",
       "4615                14.3                    3                  3.86   \n",
       "4616                12.1                    4                  3.27   \n",
       "\n",
       "      CustServ charge  Churn  \n",
       "0                   1      0  \n",
       "1                   1      0  \n",
       "2                   0      0  \n",
       "3                   2      0  \n",
       "4                   3      0  \n",
       "...               ...    ...  \n",
       "4612                3      0  \n",
       "4613                3      0  \n",
       "4614                1      0  \n",
       "4615                0      0  \n",
       "4616                2      0  \n",
       "\n",
       "[4617 rows x 21 columns]"
      ]
     },
     "execution_count": 4,
     "metadata": {},
     "output_type": "execute_result"
    }
   ],
   "source": [
    "data"
   ]
  },
  {
   "cell_type": "markdown",
   "id": "46c0c12b",
   "metadata": {},
   "source": [
    "# Breakdown of our features "
   ]
  },
  {
   "cell_type": "raw",
   "id": "430dc84c",
   "metadata": {},
   "source": [
    "STATE : 51 Unique State names \n",
    "Account length :  length of the account \n",
    "Area code : code number of area having some states \n",
    "Phone : \n",
    "International Plan : Yes indicate international plan is present and no indicates  no subscription for international plan \n",
    "Voice mail Plan : Yes Indicates voice mail plan is present and no indicates no subscription for voice mail plan \n",
    "voice mail message : number of voice mail message ranging from 0 to 50 \n",
    "Day mins : total number of minute spent in morning \n",
    "Day calls : total number of calls made in morning \n",
    "Day Charge : total charge to the ustomer in morning \n",
    "Eve mins : total numbers of minutes spent in evening \n",
    "Eve calls : numbers of calls made in the evening \n",
    "Eve charge : total charge to customer in evening\n",
    "night mins : total number of minute spent in night \n",
    "night calls : total number of calls made in night \n",
    "night charge : total charge to customers in night \n",
    "International mins :\n",
    "International calls :\n",
    "International charge :\n",
    "customer service calls : number of customer service calls made by customers\n",
    "churn : customer churn, true means churned customer, false means retained customers "
   ]
  },
  {
   "cell_type": "code",
   "execution_count": 5,
   "id": "edfc7ec3",
   "metadata": {},
   "outputs": [
    {
     "name": "stdout",
     "output_type": "stream",
     "text": [
      "<class 'pandas.core.frame.DataFrame'>\n",
      "RangeIndex: 4617 entries, 0 to 4616\n",
      "Data columns (total 21 columns):\n",
      " #   Column                Non-Null Count  Dtype  \n",
      "---  ------                --------------  -----  \n",
      " 0   State                 4617 non-null   object \n",
      " 1   Account Length        4617 non-null   int64  \n",
      " 2   Area code             4617 non-null   int64  \n",
      " 3   Phone                 4617 non-null   object \n",
      " 4   International plan    4617 non-null   object \n",
      " 5   VMail plan            4617 non-null   object \n",
      " 6   VMail message         4617 non-null   int64  \n",
      " 7   Day mins              4617 non-null   float64\n",
      " 8   Day calls             4617 non-null   int64  \n",
      " 9   Day charge            4617 non-null   float64\n",
      " 10  Eve mins              4617 non-null   float64\n",
      " 11  Eve calls             4617 non-null   int64  \n",
      " 12  Eve charge            4617 non-null   float64\n",
      " 13  Night mins            4617 non-null   float64\n",
      " 14  Night calls           4617 non-null   int64  \n",
      " 15  Night charge          4617 non-null   float64\n",
      " 16  International mins    4617 non-null   float64\n",
      " 17  International calls   4617 non-null   int64  \n",
      " 18  International charge  4617 non-null   float64\n",
      " 19  CustServ charge       4617 non-null   int64  \n",
      " 20  Churn                 4617 non-null   int64  \n",
      "dtypes: float64(8), int64(9), object(4)\n",
      "memory usage: 757.6+ KB\n"
     ]
    }
   ],
   "source": [
    "data.info()"
   ]
  },
  {
   "cell_type": "code",
   "execution_count": 6,
   "id": "8fe1a956",
   "metadata": {},
   "outputs": [
    {
     "data": {
      "text/plain": [
       "State                     51\n",
       "Account Length           218\n",
       "Area code                  3\n",
       "Phone                   4617\n",
       "International plan         2\n",
       "VMail plan                 2\n",
       "VMail message             47\n",
       "Day mins                1901\n",
       "Day calls                123\n",
       "Day charge              1901\n",
       "Eve mins                1833\n",
       "Eve calls                125\n",
       "Eve charge              1621\n",
       "Night mins              1813\n",
       "Night calls              130\n",
       "Night charge            1012\n",
       "International mins       168\n",
       "International calls       21\n",
       "International charge     168\n",
       "CustServ charge           10\n",
       "Churn                      2\n",
       "dtype: int64"
      ]
     },
     "execution_count": 6,
     "metadata": {},
     "output_type": "execute_result"
    }
   ],
   "source": [
    "data.nunique()"
   ]
  },
  {
   "cell_type": "code",
   "execution_count": 7,
   "id": "494c2cbf",
   "metadata": {},
   "outputs": [
    {
     "data": {
      "text/html": [
       "<div>\n",
       "<style scoped>\n",
       "    .dataframe tbody tr th:only-of-type {\n",
       "        vertical-align: middle;\n",
       "    }\n",
       "\n",
       "    .dataframe tbody tr th {\n",
       "        vertical-align: top;\n",
       "    }\n",
       "\n",
       "    .dataframe thead th {\n",
       "        text-align: right;\n",
       "    }\n",
       "</style>\n",
       "<table border=\"1\" class=\"dataframe\">\n",
       "  <thead>\n",
       "    <tr style=\"text-align: right;\">\n",
       "      <th></th>\n",
       "      <th>count</th>\n",
       "      <th>unique</th>\n",
       "      <th>top</th>\n",
       "      <th>freq</th>\n",
       "      <th>mean</th>\n",
       "      <th>std</th>\n",
       "      <th>min</th>\n",
       "      <th>25%</th>\n",
       "      <th>50%</th>\n",
       "      <th>75%</th>\n",
       "      <th>max</th>\n",
       "    </tr>\n",
       "  </thead>\n",
       "  <tbody>\n",
       "    <tr>\n",
       "      <th>State</th>\n",
       "      <td>4617</td>\n",
       "      <td>51</td>\n",
       "      <td>WV</td>\n",
       "      <td>149</td>\n",
       "      <td>NaN</td>\n",
       "      <td>NaN</td>\n",
       "      <td>NaN</td>\n",
       "      <td>NaN</td>\n",
       "      <td>NaN</td>\n",
       "      <td>NaN</td>\n",
       "      <td>NaN</td>\n",
       "    </tr>\n",
       "    <tr>\n",
       "      <th>Account Length</th>\n",
       "      <td>4617.0</td>\n",
       "      <td>NaN</td>\n",
       "      <td>NaN</td>\n",
       "      <td>NaN</td>\n",
       "      <td>100.645224</td>\n",
       "      <td>39.597194</td>\n",
       "      <td>1.0</td>\n",
       "      <td>74.0</td>\n",
       "      <td>100.0</td>\n",
       "      <td>127.0</td>\n",
       "      <td>243.0</td>\n",
       "    </tr>\n",
       "    <tr>\n",
       "      <th>Area code</th>\n",
       "      <td>4617.0</td>\n",
       "      <td>NaN</td>\n",
       "      <td>NaN</td>\n",
       "      <td>NaN</td>\n",
       "      <td>437.04635</td>\n",
       "      <td>42.288212</td>\n",
       "      <td>408.0</td>\n",
       "      <td>408.0</td>\n",
       "      <td>415.0</td>\n",
       "      <td>510.0</td>\n",
       "      <td>510.0</td>\n",
       "    </tr>\n",
       "    <tr>\n",
       "      <th>Phone</th>\n",
       "      <td>4617</td>\n",
       "      <td>4617</td>\n",
       "      <td>382-4657</td>\n",
       "      <td>1</td>\n",
       "      <td>NaN</td>\n",
       "      <td>NaN</td>\n",
       "      <td>NaN</td>\n",
       "      <td>NaN</td>\n",
       "      <td>NaN</td>\n",
       "      <td>NaN</td>\n",
       "      <td>NaN</td>\n",
       "    </tr>\n",
       "    <tr>\n",
       "      <th>International plan</th>\n",
       "      <td>4617</td>\n",
       "      <td>2</td>\n",
       "      <td>no</td>\n",
       "      <td>4171</td>\n",
       "      <td>NaN</td>\n",
       "      <td>NaN</td>\n",
       "      <td>NaN</td>\n",
       "      <td>NaN</td>\n",
       "      <td>NaN</td>\n",
       "      <td>NaN</td>\n",
       "      <td>NaN</td>\n",
       "    </tr>\n",
       "    <tr>\n",
       "      <th>VMail plan</th>\n",
       "      <td>4617</td>\n",
       "      <td>2</td>\n",
       "      <td>no</td>\n",
       "      <td>3381</td>\n",
       "      <td>NaN</td>\n",
       "      <td>NaN</td>\n",
       "      <td>NaN</td>\n",
       "      <td>NaN</td>\n",
       "      <td>NaN</td>\n",
       "      <td>NaN</td>\n",
       "      <td>NaN</td>\n",
       "    </tr>\n",
       "    <tr>\n",
       "      <th>VMail message</th>\n",
       "      <td>4617.0</td>\n",
       "      <td>NaN</td>\n",
       "      <td>NaN</td>\n",
       "      <td>NaN</td>\n",
       "      <td>7.849903</td>\n",
       "      <td>13.592333</td>\n",
       "      <td>0.0</td>\n",
       "      <td>0.0</td>\n",
       "      <td>0.0</td>\n",
       "      <td>17.0</td>\n",
       "      <td>51.0</td>\n",
       "    </tr>\n",
       "    <tr>\n",
       "      <th>Day mins</th>\n",
       "      <td>4617.0</td>\n",
       "      <td>NaN</td>\n",
       "      <td>NaN</td>\n",
       "      <td>NaN</td>\n",
       "      <td>180.447152</td>\n",
       "      <td>53.98354</td>\n",
       "      <td>0.0</td>\n",
       "      <td>143.7</td>\n",
       "      <td>180.0</td>\n",
       "      <td>216.8</td>\n",
       "      <td>351.5</td>\n",
       "    </tr>\n",
       "    <tr>\n",
       "      <th>Day calls</th>\n",
       "      <td>4617.0</td>\n",
       "      <td>NaN</td>\n",
       "      <td>NaN</td>\n",
       "      <td>NaN</td>\n",
       "      <td>100.054364</td>\n",
       "      <td>19.883027</td>\n",
       "      <td>0.0</td>\n",
       "      <td>87.0</td>\n",
       "      <td>100.0</td>\n",
       "      <td>113.0</td>\n",
       "      <td>165.0</td>\n",
       "    </tr>\n",
       "    <tr>\n",
       "      <th>Day charge</th>\n",
       "      <td>4617.0</td>\n",
       "      <td>NaN</td>\n",
       "      <td>NaN</td>\n",
       "      <td>NaN</td>\n",
       "      <td>30.676576</td>\n",
       "      <td>9.177145</td>\n",
       "      <td>0.0</td>\n",
       "      <td>24.43</td>\n",
       "      <td>30.6</td>\n",
       "      <td>36.86</td>\n",
       "      <td>59.76</td>\n",
       "    </tr>\n",
       "    <tr>\n",
       "      <th>Eve mins</th>\n",
       "      <td>4617.0</td>\n",
       "      <td>NaN</td>\n",
       "      <td>NaN</td>\n",
       "      <td>NaN</td>\n",
       "      <td>200.429088</td>\n",
       "      <td>50.557001</td>\n",
       "      <td>0.0</td>\n",
       "      <td>165.9</td>\n",
       "      <td>200.8</td>\n",
       "      <td>234.0</td>\n",
       "      <td>363.7</td>\n",
       "    </tr>\n",
       "    <tr>\n",
       "      <th>Eve calls</th>\n",
       "      <td>4617.0</td>\n",
       "      <td>NaN</td>\n",
       "      <td>NaN</td>\n",
       "      <td>NaN</td>\n",
       "      <td>100.17977</td>\n",
       "      <td>19.821314</td>\n",
       "      <td>0.0</td>\n",
       "      <td>87.0</td>\n",
       "      <td>101.0</td>\n",
       "      <td>114.0</td>\n",
       "      <td>170.0</td>\n",
       "    </tr>\n",
       "    <tr>\n",
       "      <th>Eve charge</th>\n",
       "      <td>4617.0</td>\n",
       "      <td>NaN</td>\n",
       "      <td>NaN</td>\n",
       "      <td>NaN</td>\n",
       "      <td>17.036703</td>\n",
       "      <td>4.297332</td>\n",
       "      <td>0.0</td>\n",
       "      <td>14.1</td>\n",
       "      <td>17.07</td>\n",
       "      <td>19.89</td>\n",
       "      <td>30.91</td>\n",
       "    </tr>\n",
       "    <tr>\n",
       "      <th>Night mins</th>\n",
       "      <td>4617.0</td>\n",
       "      <td>NaN</td>\n",
       "      <td>NaN</td>\n",
       "      <td>NaN</td>\n",
       "      <td>200.623933</td>\n",
       "      <td>50.543616</td>\n",
       "      <td>23.2</td>\n",
       "      <td>167.1</td>\n",
       "      <td>200.8</td>\n",
       "      <td>234.9</td>\n",
       "      <td>395.0</td>\n",
       "    </tr>\n",
       "    <tr>\n",
       "      <th>Night calls</th>\n",
       "      <td>4617.0</td>\n",
       "      <td>NaN</td>\n",
       "      <td>NaN</td>\n",
       "      <td>NaN</td>\n",
       "      <td>99.94412</td>\n",
       "      <td>19.935053</td>\n",
       "      <td>12.0</td>\n",
       "      <td>87.0</td>\n",
       "      <td>100.0</td>\n",
       "      <td>113.0</td>\n",
       "      <td>175.0</td>\n",
       "    </tr>\n",
       "    <tr>\n",
       "      <th>Night charge</th>\n",
       "      <td>4617.0</td>\n",
       "      <td>NaN</td>\n",
       "      <td>NaN</td>\n",
       "      <td>NaN</td>\n",
       "      <td>9.028185</td>\n",
       "      <td>2.274488</td>\n",
       "      <td>1.04</td>\n",
       "      <td>7.52</td>\n",
       "      <td>9.04</td>\n",
       "      <td>10.57</td>\n",
       "      <td>17.77</td>\n",
       "    </tr>\n",
       "    <tr>\n",
       "      <th>International mins</th>\n",
       "      <td>4617.0</td>\n",
       "      <td>NaN</td>\n",
       "      <td>NaN</td>\n",
       "      <td>NaN</td>\n",
       "      <td>10.279294</td>\n",
       "      <td>2.757361</td>\n",
       "      <td>0.0</td>\n",
       "      <td>8.6</td>\n",
       "      <td>10.3</td>\n",
       "      <td>12.1</td>\n",
       "      <td>20.0</td>\n",
       "    </tr>\n",
       "    <tr>\n",
       "      <th>International calls</th>\n",
       "      <td>4617.0</td>\n",
       "      <td>NaN</td>\n",
       "      <td>NaN</td>\n",
       "      <td>NaN</td>\n",
       "      <td>4.433831</td>\n",
       "      <td>2.457615</td>\n",
       "      <td>0.0</td>\n",
       "      <td>3.0</td>\n",
       "      <td>4.0</td>\n",
       "      <td>6.0</td>\n",
       "      <td>20.0</td>\n",
       "    </tr>\n",
       "    <tr>\n",
       "      <th>International charge</th>\n",
       "      <td>4617.0</td>\n",
       "      <td>NaN</td>\n",
       "      <td>NaN</td>\n",
       "      <td>NaN</td>\n",
       "      <td>2.775926</td>\n",
       "      <td>0.744413</td>\n",
       "      <td>0.0</td>\n",
       "      <td>2.32</td>\n",
       "      <td>2.78</td>\n",
       "      <td>3.27</td>\n",
       "      <td>5.4</td>\n",
       "    </tr>\n",
       "    <tr>\n",
       "      <th>CustServ charge</th>\n",
       "      <td>4617.0</td>\n",
       "      <td>NaN</td>\n",
       "      <td>NaN</td>\n",
       "      <td>NaN</td>\n",
       "      <td>1.567035</td>\n",
       "      <td>1.307019</td>\n",
       "      <td>0.0</td>\n",
       "      <td>1.0</td>\n",
       "      <td>1.0</td>\n",
       "      <td>2.0</td>\n",
       "      <td>9.0</td>\n",
       "    </tr>\n",
       "    <tr>\n",
       "      <th>Churn</th>\n",
       "      <td>4617.0</td>\n",
       "      <td>NaN</td>\n",
       "      <td>NaN</td>\n",
       "      <td>NaN</td>\n",
       "      <td>0.142084</td>\n",
       "      <td>0.349174</td>\n",
       "      <td>0.0</td>\n",
       "      <td>0.0</td>\n",
       "      <td>0.0</td>\n",
       "      <td>0.0</td>\n",
       "      <td>1.0</td>\n",
       "    </tr>\n",
       "  </tbody>\n",
       "</table>\n",
       "</div>"
      ],
      "text/plain": [
       "                       count unique        top  freq        mean        std  \\\n",
       "State                   4617     51         WV   149         NaN        NaN   \n",
       "Account Length        4617.0    NaN        NaN   NaN  100.645224  39.597194   \n",
       "Area code             4617.0    NaN        NaN   NaN   437.04635  42.288212   \n",
       "Phone                   4617   4617   382-4657     1         NaN        NaN   \n",
       "International plan      4617      2         no  4171         NaN        NaN   \n",
       "VMail plan              4617      2         no  3381         NaN        NaN   \n",
       "VMail message         4617.0    NaN        NaN   NaN    7.849903  13.592333   \n",
       "Day mins              4617.0    NaN        NaN   NaN  180.447152   53.98354   \n",
       "Day calls             4617.0    NaN        NaN   NaN  100.054364  19.883027   \n",
       "Day charge            4617.0    NaN        NaN   NaN   30.676576   9.177145   \n",
       "Eve mins              4617.0    NaN        NaN   NaN  200.429088  50.557001   \n",
       "Eve calls             4617.0    NaN        NaN   NaN   100.17977  19.821314   \n",
       "Eve charge            4617.0    NaN        NaN   NaN   17.036703   4.297332   \n",
       "Night mins            4617.0    NaN        NaN   NaN  200.623933  50.543616   \n",
       "Night calls           4617.0    NaN        NaN   NaN    99.94412  19.935053   \n",
       "Night charge          4617.0    NaN        NaN   NaN    9.028185   2.274488   \n",
       "International mins    4617.0    NaN        NaN   NaN   10.279294   2.757361   \n",
       "International calls   4617.0    NaN        NaN   NaN    4.433831   2.457615   \n",
       "International charge  4617.0    NaN        NaN   NaN    2.775926   0.744413   \n",
       "CustServ charge       4617.0    NaN        NaN   NaN    1.567035   1.307019   \n",
       "Churn                 4617.0    NaN        NaN   NaN    0.142084   0.349174   \n",
       "\n",
       "                        min    25%    50%    75%    max  \n",
       "State                   NaN    NaN    NaN    NaN    NaN  \n",
       "Account Length          1.0   74.0  100.0  127.0  243.0  \n",
       "Area code             408.0  408.0  415.0  510.0  510.0  \n",
       "Phone                   NaN    NaN    NaN    NaN    NaN  \n",
       "International plan      NaN    NaN    NaN    NaN    NaN  \n",
       "VMail plan              NaN    NaN    NaN    NaN    NaN  \n",
       "VMail message           0.0    0.0    0.0   17.0   51.0  \n",
       "Day mins                0.0  143.7  180.0  216.8  351.5  \n",
       "Day calls               0.0   87.0  100.0  113.0  165.0  \n",
       "Day charge              0.0  24.43   30.6  36.86  59.76  \n",
       "Eve mins                0.0  165.9  200.8  234.0  363.7  \n",
       "Eve calls               0.0   87.0  101.0  114.0  170.0  \n",
       "Eve charge              0.0   14.1  17.07  19.89  30.91  \n",
       "Night mins             23.2  167.1  200.8  234.9  395.0  \n",
       "Night calls            12.0   87.0  100.0  113.0  175.0  \n",
       "Night charge           1.04   7.52   9.04  10.57  17.77  \n",
       "International mins      0.0    8.6   10.3   12.1   20.0  \n",
       "International calls     0.0    3.0    4.0    6.0   20.0  \n",
       "International charge    0.0   2.32   2.78   3.27    5.4  \n",
       "CustServ charge         0.0    1.0    1.0    2.0    9.0  \n",
       "Churn                   0.0    0.0    0.0    0.0    1.0  "
      ]
     },
     "execution_count": 7,
     "metadata": {},
     "output_type": "execute_result"
    }
   ],
   "source": [
    "#looking for the description of the dataset to get insights of the data\n",
    "data.describe(include='all').T"
   ]
  },
  {
   "cell_type": "code",
   "execution_count": 8,
   "id": "a4309485",
   "metadata": {},
   "outputs": [
    {
     "data": {
      "text/html": [
       "<div>\n",
       "<style scoped>\n",
       "    .dataframe tbody tr th:only-of-type {\n",
       "        vertical-align: middle;\n",
       "    }\n",
       "\n",
       "    .dataframe tbody tr th {\n",
       "        vertical-align: top;\n",
       "    }\n",
       "\n",
       "    .dataframe thead th {\n",
       "        text-align: right;\n",
       "    }\n",
       "</style>\n",
       "<table border=\"1\" class=\"dataframe\">\n",
       "  <thead>\n",
       "    <tr style=\"text-align: right;\">\n",
       "      <th></th>\n",
       "      <th>count</th>\n",
       "      <th>mean</th>\n",
       "      <th>std</th>\n",
       "      <th>min</th>\n",
       "      <th>25%</th>\n",
       "      <th>50%</th>\n",
       "      <th>75%</th>\n",
       "      <th>max</th>\n",
       "    </tr>\n",
       "  </thead>\n",
       "  <tbody>\n",
       "    <tr>\n",
       "      <th>Account Length</th>\n",
       "      <td>4617.0</td>\n",
       "      <td>100.645224</td>\n",
       "      <td>39.597194</td>\n",
       "      <td>1.00</td>\n",
       "      <td>74.00</td>\n",
       "      <td>100.00</td>\n",
       "      <td>127.00</td>\n",
       "      <td>243.00</td>\n",
       "    </tr>\n",
       "    <tr>\n",
       "      <th>Area code</th>\n",
       "      <td>4617.0</td>\n",
       "      <td>437.046350</td>\n",
       "      <td>42.288212</td>\n",
       "      <td>408.00</td>\n",
       "      <td>408.00</td>\n",
       "      <td>415.00</td>\n",
       "      <td>510.00</td>\n",
       "      <td>510.00</td>\n",
       "    </tr>\n",
       "    <tr>\n",
       "      <th>VMail message</th>\n",
       "      <td>4617.0</td>\n",
       "      <td>7.849903</td>\n",
       "      <td>13.592333</td>\n",
       "      <td>0.00</td>\n",
       "      <td>0.00</td>\n",
       "      <td>0.00</td>\n",
       "      <td>17.00</td>\n",
       "      <td>51.00</td>\n",
       "    </tr>\n",
       "    <tr>\n",
       "      <th>Day mins</th>\n",
       "      <td>4617.0</td>\n",
       "      <td>180.447152</td>\n",
       "      <td>53.983540</td>\n",
       "      <td>0.00</td>\n",
       "      <td>143.70</td>\n",
       "      <td>180.00</td>\n",
       "      <td>216.80</td>\n",
       "      <td>351.50</td>\n",
       "    </tr>\n",
       "    <tr>\n",
       "      <th>Day calls</th>\n",
       "      <td>4617.0</td>\n",
       "      <td>100.054364</td>\n",
       "      <td>19.883027</td>\n",
       "      <td>0.00</td>\n",
       "      <td>87.00</td>\n",
       "      <td>100.00</td>\n",
       "      <td>113.00</td>\n",
       "      <td>165.00</td>\n",
       "    </tr>\n",
       "    <tr>\n",
       "      <th>Day charge</th>\n",
       "      <td>4617.0</td>\n",
       "      <td>30.676576</td>\n",
       "      <td>9.177145</td>\n",
       "      <td>0.00</td>\n",
       "      <td>24.43</td>\n",
       "      <td>30.60</td>\n",
       "      <td>36.86</td>\n",
       "      <td>59.76</td>\n",
       "    </tr>\n",
       "    <tr>\n",
       "      <th>Eve mins</th>\n",
       "      <td>4617.0</td>\n",
       "      <td>200.429088</td>\n",
       "      <td>50.557001</td>\n",
       "      <td>0.00</td>\n",
       "      <td>165.90</td>\n",
       "      <td>200.80</td>\n",
       "      <td>234.00</td>\n",
       "      <td>363.70</td>\n",
       "    </tr>\n",
       "    <tr>\n",
       "      <th>Eve calls</th>\n",
       "      <td>4617.0</td>\n",
       "      <td>100.179770</td>\n",
       "      <td>19.821314</td>\n",
       "      <td>0.00</td>\n",
       "      <td>87.00</td>\n",
       "      <td>101.00</td>\n",
       "      <td>114.00</td>\n",
       "      <td>170.00</td>\n",
       "    </tr>\n",
       "    <tr>\n",
       "      <th>Eve charge</th>\n",
       "      <td>4617.0</td>\n",
       "      <td>17.036703</td>\n",
       "      <td>4.297332</td>\n",
       "      <td>0.00</td>\n",
       "      <td>14.10</td>\n",
       "      <td>17.07</td>\n",
       "      <td>19.89</td>\n",
       "      <td>30.91</td>\n",
       "    </tr>\n",
       "    <tr>\n",
       "      <th>Night mins</th>\n",
       "      <td>4617.0</td>\n",
       "      <td>200.623933</td>\n",
       "      <td>50.543616</td>\n",
       "      <td>23.20</td>\n",
       "      <td>167.10</td>\n",
       "      <td>200.80</td>\n",
       "      <td>234.90</td>\n",
       "      <td>395.00</td>\n",
       "    </tr>\n",
       "    <tr>\n",
       "      <th>Night calls</th>\n",
       "      <td>4617.0</td>\n",
       "      <td>99.944120</td>\n",
       "      <td>19.935053</td>\n",
       "      <td>12.00</td>\n",
       "      <td>87.00</td>\n",
       "      <td>100.00</td>\n",
       "      <td>113.00</td>\n",
       "      <td>175.00</td>\n",
       "    </tr>\n",
       "    <tr>\n",
       "      <th>Night charge</th>\n",
       "      <td>4617.0</td>\n",
       "      <td>9.028185</td>\n",
       "      <td>2.274488</td>\n",
       "      <td>1.04</td>\n",
       "      <td>7.52</td>\n",
       "      <td>9.04</td>\n",
       "      <td>10.57</td>\n",
       "      <td>17.77</td>\n",
       "    </tr>\n",
       "    <tr>\n",
       "      <th>International mins</th>\n",
       "      <td>4617.0</td>\n",
       "      <td>10.279294</td>\n",
       "      <td>2.757361</td>\n",
       "      <td>0.00</td>\n",
       "      <td>8.60</td>\n",
       "      <td>10.30</td>\n",
       "      <td>12.10</td>\n",
       "      <td>20.00</td>\n",
       "    </tr>\n",
       "    <tr>\n",
       "      <th>International calls</th>\n",
       "      <td>4617.0</td>\n",
       "      <td>4.433831</td>\n",
       "      <td>2.457615</td>\n",
       "      <td>0.00</td>\n",
       "      <td>3.00</td>\n",
       "      <td>4.00</td>\n",
       "      <td>6.00</td>\n",
       "      <td>20.00</td>\n",
       "    </tr>\n",
       "    <tr>\n",
       "      <th>International charge</th>\n",
       "      <td>4617.0</td>\n",
       "      <td>2.775926</td>\n",
       "      <td>0.744413</td>\n",
       "      <td>0.00</td>\n",
       "      <td>2.32</td>\n",
       "      <td>2.78</td>\n",
       "      <td>3.27</td>\n",
       "      <td>5.40</td>\n",
       "    </tr>\n",
       "    <tr>\n",
       "      <th>CustServ charge</th>\n",
       "      <td>4617.0</td>\n",
       "      <td>1.567035</td>\n",
       "      <td>1.307019</td>\n",
       "      <td>0.00</td>\n",
       "      <td>1.00</td>\n",
       "      <td>1.00</td>\n",
       "      <td>2.00</td>\n",
       "      <td>9.00</td>\n",
       "    </tr>\n",
       "    <tr>\n",
       "      <th>Churn</th>\n",
       "      <td>4617.0</td>\n",
       "      <td>0.142084</td>\n",
       "      <td>0.349174</td>\n",
       "      <td>0.00</td>\n",
       "      <td>0.00</td>\n",
       "      <td>0.00</td>\n",
       "      <td>0.00</td>\n",
       "      <td>1.00</td>\n",
       "    </tr>\n",
       "  </tbody>\n",
       "</table>\n",
       "</div>"
      ],
      "text/plain": [
       "                       count        mean        std     min     25%     50%  \\\n",
       "Account Length        4617.0  100.645224  39.597194    1.00   74.00  100.00   \n",
       "Area code             4617.0  437.046350  42.288212  408.00  408.00  415.00   \n",
       "VMail message         4617.0    7.849903  13.592333    0.00    0.00    0.00   \n",
       "Day mins              4617.0  180.447152  53.983540    0.00  143.70  180.00   \n",
       "Day calls             4617.0  100.054364  19.883027    0.00   87.00  100.00   \n",
       "Day charge            4617.0   30.676576   9.177145    0.00   24.43   30.60   \n",
       "Eve mins              4617.0  200.429088  50.557001    0.00  165.90  200.80   \n",
       "Eve calls             4617.0  100.179770  19.821314    0.00   87.00  101.00   \n",
       "Eve charge            4617.0   17.036703   4.297332    0.00   14.10   17.07   \n",
       "Night mins            4617.0  200.623933  50.543616   23.20  167.10  200.80   \n",
       "Night calls           4617.0   99.944120  19.935053   12.00   87.00  100.00   \n",
       "Night charge          4617.0    9.028185   2.274488    1.04    7.52    9.04   \n",
       "International mins    4617.0   10.279294   2.757361    0.00    8.60   10.30   \n",
       "International calls   4617.0    4.433831   2.457615    0.00    3.00    4.00   \n",
       "International charge  4617.0    2.775926   0.744413    0.00    2.32    2.78   \n",
       "CustServ charge       4617.0    1.567035   1.307019    0.00    1.00    1.00   \n",
       "Churn                 4617.0    0.142084   0.349174    0.00    0.00    0.00   \n",
       "\n",
       "                         75%     max  \n",
       "Account Length        127.00  243.00  \n",
       "Area code             510.00  510.00  \n",
       "VMail message          17.00   51.00  \n",
       "Day mins              216.80  351.50  \n",
       "Day calls             113.00  165.00  \n",
       "Day charge             36.86   59.76  \n",
       "Eve mins              234.00  363.70  \n",
       "Eve calls             114.00  170.00  \n",
       "Eve charge             19.89   30.91  \n",
       "Night mins            234.90  395.00  \n",
       "Night calls           113.00  175.00  \n",
       "Night charge           10.57   17.77  \n",
       "International mins     12.10   20.00  \n",
       "International calls     6.00   20.00  \n",
       "International charge    3.27    5.40  \n",
       "CustServ charge         2.00    9.00  \n",
       "Churn                   0.00    1.00  "
      ]
     },
     "execution_count": 8,
     "metadata": {},
     "output_type": "execute_result"
    }
   ],
   "source": [
    "data.describe().T"
   ]
  },
  {
   "cell_type": "code",
   "execution_count": 9,
   "id": "48e88671",
   "metadata": {},
   "outputs": [
    {
     "name": "stdout",
     "output_type": "stream",
     "text": [
      "0    3961\n",
      "1     656\n",
      "Name: Churn, dtype: int64\n"
     ]
    }
   ],
   "source": [
    "#printing the count of true and false in 'churn' feature\n",
    "print(data.Churn.value_counts())"
   ]
  },
  {
   "cell_type": "code",
   "execution_count": 10,
   "id": "9a597929",
   "metadata": {},
   "outputs": [
    {
     "data": {
      "text/plain": [
       "State                   0\n",
       "Account Length          0\n",
       "Area code               0\n",
       "Phone                   0\n",
       "International plan      0\n",
       "VMail plan              0\n",
       "VMail message           0\n",
       "Day mins                0\n",
       "Day calls               0\n",
       "Day charge              0\n",
       "Eve mins                0\n",
       "Eve calls               0\n",
       "Eve charge              0\n",
       "Night mins              0\n",
       "Night calls             0\n",
       "Night charge            0\n",
       "International mins      0\n",
       "International calls     0\n",
       "International charge    0\n",
       "CustServ charge         0\n",
       "Churn                   0\n",
       "dtype: int64"
      ]
     },
     "execution_count": 10,
     "metadata": {},
     "output_type": "execute_result"
    }
   ],
   "source": [
    "#checking missing values and duplicate values\n",
    "data.isnull().sum()"
   ]
  },
  {
   "cell_type": "code",
   "execution_count": 11,
   "id": "ca947a0a",
   "metadata": {},
   "outputs": [
    {
     "name": "stderr",
     "output_type": "stream",
     "text": [
      "C:\\ProgramData\\Anaconda3\\lib\\site-packages\\seaborn\\_decorators.py:36: FutureWarning: Pass the following variables as keyword args: x, y. From version 0.12, the only valid positional argument will be `data`, and passing other arguments without an explicit keyword will result in an error or misinterpretation.\n",
      "  warnings.warn(\n"
     ]
    },
    {
     "data": {
      "image/png": "[encoded data removed]",
      "text/plain": [
       "<Figure size 1600x500 with 1 Axes>"
      ]
     },
     "metadata": {},
     "output_type": "display_data"
    }
   ],
   "source": [
    "missing = pd.DataFrame((data.isnull().sum())*100/data.shape[0]).reset_index()\n",
    "plt.figure(figsize=(16,5))\n",
    "ax = sns.pointplot('index',0,data=missing)\n",
    "plt.xticks(rotation=90, fontsize=7)\n",
    "plt.title('percentage of missing values')\n",
    "plt.ylabel('PERCENTAGE')\n",
    "plt.show()"
   ]
  },
  {
   "cell_type": "code",
   "execution_count": 12,
   "id": "1cfb20aa",
   "metadata": {},
   "outputs": [
    {
     "data": {
      "text/plain": [
       "0"
      ]
     },
     "execution_count": 12,
     "metadata": {},
     "output_type": "execute_result"
    }
   ],
   "source": [
    "#checking duplicate values\n",
    "len(data[data.duplicated()])"
   ]
  },
  {
   "cell_type": "raw",
   "id": "882f9a3c",
   "metadata": {},
   "source": [
    "As of now there are 4617 rows and 21 columns in above dataset.\n",
    "out of which there are 1 boolean data type i.e \"CHURN\"\n",
    "8 float data types\n",
    "8 integer data types \n",
    "4 object data types\n",
    "There are no missing values present so no need to do the missing value imputation\n",
    "and also no any duplicate value are present."
   ]
  },
  {
   "cell_type": "code",
   "execution_count": 13,
   "id": "30070f56",
   "metadata": {},
   "outputs": [],
   "source": [
    "#data['Churn']=data['Churn'].map(lambda x : x.rstrip('.'))\n",
    "#data.iloc[:,0:21]"
   ]
  },
  {
   "cell_type": "markdown",
   "id": "7d831994",
   "metadata": {},
   "source": [
    "# Exploratory Data Analysis of the Dataset "
   ]
  },
  {
   "cell_type": "markdown",
   "id": "4b37fa19",
   "metadata": {},
   "source": [
    "Analysing what the dependent variable said to us i.e 'CHURN'"
   ]
  },
  {
   "cell_type": "code",
   "execution_count": 14,
   "id": "ae056dc8",
   "metadata": {},
   "outputs": [
    {
     "data": {
      "text/plain": [
       "array([0, 1], dtype=int64)"
      ]
     },
     "execution_count": 14,
     "metadata": {},
     "output_type": "execute_result"
    }
   ],
   "source": [
    "#printing the unique value inside the column \n",
    "data['Churn'].unique()"
   ]
  },
  {
   "cell_type": "code",
   "execution_count": 15,
   "id": "afc738fc",
   "metadata": {
    "scrolled": true
   },
   "outputs": [
    {
     "name": "stdout",
     "output_type": "stream",
     "text": [
      "0    3961\n",
      "1     656\n",
      "Name: Churn, dtype: int64\n"
     ]
    }
   ],
   "source": [
    "print(data.Churn.value_counts())"
   ]
  },
  {
   "cell_type": "code",
   "execution_count": 16,
   "id": "7fb3f79f",
   "metadata": {},
   "outputs": [
    {
     "data": {
      "image/png": "[encoded data removed]",
      "text/plain": [
       "<Figure size 800x800 with 1 Axes>"
      ]
     },
     "metadata": {},
     "output_type": "display_data"
    }
   ],
   "source": [
    "#To get the pie chart to analyze churn \n",
    "data['Churn'].value_counts().plot.pie(explode=[0.05,0.05],autopct='%1.2f%%', startangle=90, shadow=True, figsize=(8,8))\n",
    "plt.title(\"pie chart of churn\")\n",
    "plt.show()"
   ]
  },
  {
   "cell_type": "code",
   "execution_count": 17,
   "id": "8da1ee19",
   "metadata": {},
   "outputs": [
    {
     "data": {
      "text/plain": [
       "0    3961\n",
       "1     656\n",
       "Name: Churn, dtype: int64"
      ]
     },
     "execution_count": 17,
     "metadata": {},
     "output_type": "execute_result"
    }
   ],
   "source": [
    "data['Churn'].value_counts()"
   ]
  },
  {
   "cell_type": "code",
   "execution_count": 19,
   "id": "7d0b6440",
   "metadata": {},
   "outputs": [
    {
     "ename": "AttributeError",
     "evalue": "module 'matplotlib.pyplot' has no attribute 'circle'",
     "output_type": "error",
     "traceback": [
      "\u001b[1;31m---------------------------------------------------------------------------\u001b[0m",
      "\u001b[1;31mAttributeError\u001b[0m                            Traceback (most recent call last)",
      "\u001b[1;32m~\\AppData\\Local\\Temp\\ipykernel_7444\\4287417863.py\u001b[0m in \u001b[0;36m<module>\u001b[1;34m\u001b[0m\n\u001b[0;32m      2\u001b[0m \u001b[0mx\u001b[0m \u001b[1;33m=\u001b[0m \u001b[0mdata\u001b[0m\u001b[1;33m[\u001b[0m\u001b[1;34m'Churn'\u001b[0m\u001b[1;33m]\u001b[0m\u001b[1;33m.\u001b[0m\u001b[0mvalue_counts\u001b[0m\u001b[1;33m(\u001b[0m\u001b[1;33m)\u001b[0m\u001b[1;33m.\u001b[0m\u001b[0mvalues\u001b[0m\u001b[1;33m\u001b[0m\u001b[1;33m\u001b[0m\u001b[0m\n\u001b[0;32m      3\u001b[0m \u001b[0mplt\u001b[0m\u001b[1;33m.\u001b[0m\u001b[0mpie\u001b[0m\u001b[1;33m(\u001b[0m\u001b[0mx\u001b[0m\u001b[1;33m,\u001b[0m \u001b[0mexplode\u001b[0m \u001b[1;33m=\u001b[0m \u001b[1;33m[\u001b[0m\u001b[1;36m0\u001b[0m\u001b[1;33m,\u001b[0m\u001b[1;36m0.2\u001b[0m\u001b[1;33m]\u001b[0m\u001b[1;33m,\u001b[0m \u001b[0mautopct\u001b[0m\u001b[1;33m=\u001b[0m\u001b[1;34m'%1.2f%%'\u001b[0m\u001b[1;33m,\u001b[0m \u001b[0mshadow\u001b[0m\u001b[1;33m=\u001b[0m\u001b[1;32mTrue\u001b[0m\u001b[1;33m,\u001b[0m \u001b[0mradius\u001b[0m \u001b[1;33m=\u001b[0m \u001b[1;36m2.0\u001b[0m\u001b[1;33m,\u001b[0m \u001b[0mlabels\u001b[0m\u001b[1;33m=\u001b[0m\u001b[1;33m[\u001b[0m\u001b[1;34m'Not churned customer'\u001b[0m\u001b[1;33m,\u001b[0m\u001b[1;34m'Churned customer'\u001b[0m\u001b[1;33m]\u001b[0m\u001b[1;33m,\u001b[0m \u001b[0mcolors\u001b[0m\u001b[1;33m=\u001b[0m\u001b[1;33m[\u001b[0m\u001b[1;34m'royalblue'\u001b[0m\u001b[1;33m,\u001b[0m\u001b[1;34m'lime'\u001b[0m\u001b[1;33m]\u001b[0m\u001b[1;33m,\u001b[0m\u001b[0mcounterclock\u001b[0m\u001b[1;33m=\u001b[0m\u001b[1;32mTrue\u001b[0m\u001b[1;33m,\u001b[0m\u001b[0mstartangle\u001b[0m\u001b[1;33m=\u001b[0m\u001b[1;36m45\u001b[0m\u001b[1;33m)\u001b[0m\u001b[1;33m\u001b[0m\u001b[1;33m\u001b[0m\u001b[0m\n\u001b[1;32m----> 4\u001b[1;33m \u001b[0mcircle\u001b[0m \u001b[1;33m=\u001b[0m \u001b[0mplt\u001b[0m\u001b[1;33m.\u001b[0m\u001b[0mcircle\u001b[0m\u001b[1;33m(\u001b[0m\u001b[1;33m(\u001b[0m\u001b[1;36m0\u001b[0m\u001b[1;33m,\u001b[0m\u001b[1;36m0\u001b[0m\u001b[1;33m)\u001b[0m\u001b[1;33m,\u001b[0m\u001b[1;36m1\u001b[0m\u001b[1;33m,\u001b[0m \u001b[0mcolor\u001b[0m\u001b[1;33m=\u001b[0m\u001b[1;34m'white'\u001b[0m\u001b[1;33m)\u001b[0m\u001b[1;33m\u001b[0m\u001b[1;33m\u001b[0m\u001b[0m\n\u001b[0m\u001b[0;32m      5\u001b[0m \u001b[0mp\u001b[0m\u001b[1;33m=\u001b[0m\u001b[0mplt\u001b[0m\u001b[1;33m.\u001b[0m\u001b[0mgcf\u001b[0m\u001b[1;33m(\u001b[0m\u001b[1;33m)\u001b[0m\u001b[1;33m\u001b[0m\u001b[1;33m\u001b[0m\u001b[0m\n\u001b[0;32m      6\u001b[0m \u001b[0mp\u001b[0m\u001b[1;33m.\u001b[0m\u001b[0mgca\u001b[0m\u001b[1;33m(\u001b[0m\u001b[1;33m)\u001b[0m\u001b[1;33m.\u001b[0m\u001b[0madd_artist\u001b[0m\u001b[1;33m(\u001b[0m\u001b[0mcircle\u001b[0m\u001b[1;33m)\u001b[0m\u001b[1;33m\u001b[0m\u001b[1;33m\u001b[0m\u001b[0m\n",
      "\u001b[1;31mAttributeError\u001b[0m: module 'matplotlib.pyplot' has no attribute 'circle'"
     ]
    },
    {
     "data": {
      "image/png": "[encoded data removed]",
      "text/plain": [
       "<Figure size 640x480 with 1 Axes>"
      ]
     },
     "metadata": {},
     "output_type": "display_data"
    }
   ],
   "source": [
    "#To get the donut plot to analyze churn \n",
    "x = data['Churn'].value_counts().values\n",
    "plt.pie(x, explode = [0,0.2], autopct='%1.2f%%', shadow=True, radius = 2.0, labels=['Not churned customer','Churned customer'], colors=['royalblue','lime'],counterclock=True,startangle=45)\n",
    "circle = plt.circle((0,0),1, color='white')\n",
    "p=plt.gcf()\n",
    "p.gca().add_artist(circle)\n",
    "plt.title('Donut Plot for Churn')\n",
    "plt.show()"
   ]
  },
  {
   "cell_type": "code",
   "execution_count": 20,
   "id": "482a5a9c",
   "metadata": {},
   "outputs": [
    {
     "data": {
      "text/plain": [
       "<AxesSubplot:xlabel='Churn', ylabel='count'>"
      ]
     },
     "execution_count": 20,
     "metadata": {},
     "output_type": "execute_result"
    },
    {
     "data": {
      "image/png": "[encoded data removed]",
      "text/plain": [
       "<Figure size 640x480 with 1 Axes>"
      ]
     },
     "metadata": {},
     "output_type": "display_data"
    }
   ],
   "source": [
    "#let's see churn by using countplot\n",
    "sns.countplot(x=data.Churn)"
   ]
  },
  {
   "cell_type": "markdown",
   "id": "5294fd59",
   "metadata": {},
   "source": [
    "After analyzing the churn column, wehad little to say like almost 15% od customers have churned. let's see what other \n",
    "features say to us and what relation we get after correlated with churn "
   ]
  },
  {
   "cell_type": "markdown",
   "id": "83657ed9",
   "metadata": {},
   "source": [
    "# Analyzing the state column "
   ]
  },
  {
   "cell_type": "code",
   "execution_count": 21,
   "id": "253721b6",
   "metadata": {},
   "outputs": [
    {
     "data": {
      "text/plain": [
       "array(['KS', 'OH', 'NJ', 'OK', 'AL', 'MA', 'MO', 'LA', 'WV', 'IN', 'RI',\n",
       "       'IA', 'MT', 'NY', 'ID', 'VT', 'VA', 'TX', 'FL', 'CO', 'AZ', 'SC',\n",
       "       'NE', 'WY', 'HI', 'IL', 'NH', 'GA', 'AK', 'MD', 'AR', 'WI', 'OR',\n",
       "       'MI', 'DE', 'UT', 'CA', 'MN', 'SD', 'NC', 'WA', 'NM', 'NV', 'DC',\n",
       "       'KY', 'ME', 'MS', 'TN', 'PA', 'CT', 'ND'], dtype=object)"
      ]
     },
     "execution_count": 21,
     "metadata": {},
     "output_type": "execute_result"
    }
   ],
   "source": [
    "data['State'].unique()"
   ]
  },
  {
   "cell_type": "code",
   "execution_count": 22,
   "id": "544f27b7",
   "metadata": {},
   "outputs": [
    {
     "data": {
      "text/plain": [
       "51"
      ]
     },
     "execution_count": 22,
     "metadata": {},
     "output_type": "execute_result"
    }
   ],
   "source": [
    "data['State'].nunique()"
   ]
  },
  {
   "cell_type": "code",
   "execution_count": 23,
   "id": "49eb10c2",
   "metadata": {},
   "outputs": [
    {
     "data": {
      "image/png": "[encoded data removed]",
      "text/plain": [
       "<Figure size 1600x900 with 1 Axes>"
      ]
     },
     "metadata": {},
     "output_type": "display_data"
    }
   ],
   "source": [
    "#camparison churn with respect to state by using countplot \n",
    "sns.set(style='darkgrid')\n",
    "plt.figure(figsize=(16,9))\n",
    "ax = sns.countplot(x='State', hue='Churn', data=data)\n",
    "plt.show()"
   ]
  },
  {
   "cell_type": "code",
   "execution_count": 24,
   "id": "2739401b",
   "metadata": {},
   "outputs": [],
   "source": [
    "#data['Churn']=data['Churn'].map(lambda x : x.rstrip('.'))"
   ]
  },
  {
   "cell_type": "code",
   "execution_count": 25,
   "id": "a225398c",
   "metadata": {},
   "outputs": [],
   "source": [
    "#data[\"Churn\"].replace((\"True\",\"1\"),inplace=True)\n",
    "#data[\"Churn\"].replace({\"True\":\"Yes\",\"False\":\"No\"},inplace=True)"
   ]
  },
  {
   "cell_type": "code",
   "execution_count": 26,
   "id": "a5d72b06",
   "metadata": {},
   "outputs": [],
   "source": [
    "#data[\"Churn\"].replace({\"TRUE\":1,\"FALSE\":0},inplace=True)"
   ]
  },
  {
   "cell_type": "code",
   "execution_count": 27,
   "id": "552c92b4",
   "metadata": {},
   "outputs": [
    {
     "data": {
      "text/html": [
       "<div>\n",
       "<style scoped>\n",
       "    .dataframe tbody tr th:only-of-type {\n",
       "        vertical-align: middle;\n",
       "    }\n",
       "\n",
       "    .dataframe tbody tr th {\n",
       "        vertical-align: top;\n",
       "    }\n",
       "\n",
       "    .dataframe thead th {\n",
       "        text-align: right;\n",
       "    }\n",
       "</style>\n",
       "<table border=\"1\" class=\"dataframe\">\n",
       "  <thead>\n",
       "    <tr style=\"text-align: right;\">\n",
       "      <th></th>\n",
       "      <th>State</th>\n",
       "      <th>Account Length</th>\n",
       "      <th>Area code</th>\n",
       "      <th>Phone</th>\n",
       "      <th>International plan</th>\n",
       "      <th>VMail plan</th>\n",
       "      <th>VMail message</th>\n",
       "      <th>Day mins</th>\n",
       "      <th>Day calls</th>\n",
       "      <th>Day charge</th>\n",
       "      <th>...</th>\n",
       "      <th>Eve calls</th>\n",
       "      <th>Eve charge</th>\n",
       "      <th>Night mins</th>\n",
       "      <th>Night calls</th>\n",
       "      <th>Night charge</th>\n",
       "      <th>International mins</th>\n",
       "      <th>International calls</th>\n",
       "      <th>International charge</th>\n",
       "      <th>CustServ charge</th>\n",
       "      <th>Churn</th>\n",
       "    </tr>\n",
       "  </thead>\n",
       "  <tbody>\n",
       "    <tr>\n",
       "      <th>0</th>\n",
       "      <td>KS</td>\n",
       "      <td>128</td>\n",
       "      <td>415</td>\n",
       "      <td>382-4657</td>\n",
       "      <td>no</td>\n",
       "      <td>yes</td>\n",
       "      <td>25</td>\n",
       "      <td>265.1</td>\n",
       "      <td>110</td>\n",
       "      <td>45.07</td>\n",
       "      <td>...</td>\n",
       "      <td>99</td>\n",
       "      <td>16.78</td>\n",
       "      <td>244.7</td>\n",
       "      <td>91</td>\n",
       "      <td>11.01</td>\n",
       "      <td>10.0</td>\n",
       "      <td>3</td>\n",
       "      <td>2.70</td>\n",
       "      <td>1</td>\n",
       "      <td>0</td>\n",
       "    </tr>\n",
       "    <tr>\n",
       "      <th>1</th>\n",
       "      <td>OH</td>\n",
       "      <td>107</td>\n",
       "      <td>415</td>\n",
       "      <td>371-7191</td>\n",
       "      <td>no</td>\n",
       "      <td>yes</td>\n",
       "      <td>26</td>\n",
       "      <td>161.6</td>\n",
       "      <td>123</td>\n",
       "      <td>27.47</td>\n",
       "      <td>...</td>\n",
       "      <td>103</td>\n",
       "      <td>16.62</td>\n",
       "      <td>254.4</td>\n",
       "      <td>103</td>\n",
       "      <td>11.45</td>\n",
       "      <td>13.7</td>\n",
       "      <td>3</td>\n",
       "      <td>3.70</td>\n",
       "      <td>1</td>\n",
       "      <td>0</td>\n",
       "    </tr>\n",
       "    <tr>\n",
       "      <th>2</th>\n",
       "      <td>NJ</td>\n",
       "      <td>137</td>\n",
       "      <td>415</td>\n",
       "      <td>358-1921</td>\n",
       "      <td>no</td>\n",
       "      <td>no</td>\n",
       "      <td>0</td>\n",
       "      <td>243.4</td>\n",
       "      <td>114</td>\n",
       "      <td>41.38</td>\n",
       "      <td>...</td>\n",
       "      <td>110</td>\n",
       "      <td>10.30</td>\n",
       "      <td>162.6</td>\n",
       "      <td>104</td>\n",
       "      <td>7.32</td>\n",
       "      <td>12.2</td>\n",
       "      <td>5</td>\n",
       "      <td>3.29</td>\n",
       "      <td>0</td>\n",
       "      <td>0</td>\n",
       "    </tr>\n",
       "    <tr>\n",
       "      <th>3</th>\n",
       "      <td>OH</td>\n",
       "      <td>84</td>\n",
       "      <td>408</td>\n",
       "      <td>375-9999</td>\n",
       "      <td>yes</td>\n",
       "      <td>no</td>\n",
       "      <td>0</td>\n",
       "      <td>299.4</td>\n",
       "      <td>71</td>\n",
       "      <td>50.90</td>\n",
       "      <td>...</td>\n",
       "      <td>88</td>\n",
       "      <td>5.26</td>\n",
       "      <td>196.9</td>\n",
       "      <td>89</td>\n",
       "      <td>8.86</td>\n",
       "      <td>6.6</td>\n",
       "      <td>7</td>\n",
       "      <td>1.78</td>\n",
       "      <td>2</td>\n",
       "      <td>0</td>\n",
       "    </tr>\n",
       "    <tr>\n",
       "      <th>4</th>\n",
       "      <td>OK</td>\n",
       "      <td>75</td>\n",
       "      <td>415</td>\n",
       "      <td>330-6626</td>\n",
       "      <td>yes</td>\n",
       "      <td>no</td>\n",
       "      <td>0</td>\n",
       "      <td>166.7</td>\n",
       "      <td>113</td>\n",
       "      <td>28.34</td>\n",
       "      <td>...</td>\n",
       "      <td>122</td>\n",
       "      <td>12.61</td>\n",
       "      <td>186.9</td>\n",
       "      <td>121</td>\n",
       "      <td>8.41</td>\n",
       "      <td>10.1</td>\n",
       "      <td>3</td>\n",
       "      <td>2.73</td>\n",
       "      <td>3</td>\n",
       "      <td>0</td>\n",
       "    </tr>\n",
       "    <tr>\n",
       "      <th>...</th>\n",
       "      <td>...</td>\n",
       "      <td>...</td>\n",
       "      <td>...</td>\n",
       "      <td>...</td>\n",
       "      <td>...</td>\n",
       "      <td>...</td>\n",
       "      <td>...</td>\n",
       "      <td>...</td>\n",
       "      <td>...</td>\n",
       "      <td>...</td>\n",
       "      <td>...</td>\n",
       "      <td>...</td>\n",
       "      <td>...</td>\n",
       "      <td>...</td>\n",
       "      <td>...</td>\n",
       "      <td>...</td>\n",
       "      <td>...</td>\n",
       "      <td>...</td>\n",
       "      <td>...</td>\n",
       "      <td>...</td>\n",
       "      <td>...</td>\n",
       "    </tr>\n",
       "    <tr>\n",
       "      <th>4612</th>\n",
       "      <td>NY</td>\n",
       "      <td>57</td>\n",
       "      <td>510</td>\n",
       "      <td>345-7512</td>\n",
       "      <td>no</td>\n",
       "      <td>yes</td>\n",
       "      <td>25</td>\n",
       "      <td>144.0</td>\n",
       "      <td>81</td>\n",
       "      <td>24.48</td>\n",
       "      <td>...</td>\n",
       "      <td>112</td>\n",
       "      <td>15.91</td>\n",
       "      <td>158.6</td>\n",
       "      <td>122</td>\n",
       "      <td>7.14</td>\n",
       "      <td>8.5</td>\n",
       "      <td>6</td>\n",
       "      <td>2.30</td>\n",
       "      <td>3</td>\n",
       "      <td>0</td>\n",
       "    </tr>\n",
       "    <tr>\n",
       "      <th>4613</th>\n",
       "      <td>NM</td>\n",
       "      <td>177</td>\n",
       "      <td>408</td>\n",
       "      <td>343-6820</td>\n",
       "      <td>no</td>\n",
       "      <td>yes</td>\n",
       "      <td>29</td>\n",
       "      <td>189.0</td>\n",
       "      <td>91</td>\n",
       "      <td>32.13</td>\n",
       "      <td>...</td>\n",
       "      <td>96</td>\n",
       "      <td>25.76</td>\n",
       "      <td>163.6</td>\n",
       "      <td>116</td>\n",
       "      <td>7.36</td>\n",
       "      <td>15.7</td>\n",
       "      <td>1</td>\n",
       "      <td>4.24</td>\n",
       "      <td>3</td>\n",
       "      <td>0</td>\n",
       "    </tr>\n",
       "    <tr>\n",
       "      <th>4614</th>\n",
       "      <td>VT</td>\n",
       "      <td>67</td>\n",
       "      <td>408</td>\n",
       "      <td>338-4794</td>\n",
       "      <td>no</td>\n",
       "      <td>yes</td>\n",
       "      <td>33</td>\n",
       "      <td>127.5</td>\n",
       "      <td>126</td>\n",
       "      <td>21.68</td>\n",
       "      <td>...</td>\n",
       "      <td>129</td>\n",
       "      <td>25.17</td>\n",
       "      <td>200.9</td>\n",
       "      <td>91</td>\n",
       "      <td>9.04</td>\n",
       "      <td>13.0</td>\n",
       "      <td>3</td>\n",
       "      <td>3.51</td>\n",
       "      <td>1</td>\n",
       "      <td>0</td>\n",
       "    </tr>\n",
       "    <tr>\n",
       "      <th>4615</th>\n",
       "      <td>MI</td>\n",
       "      <td>98</td>\n",
       "      <td>415</td>\n",
       "      <td>355-8388</td>\n",
       "      <td>no</td>\n",
       "      <td>yes</td>\n",
       "      <td>23</td>\n",
       "      <td>168.9</td>\n",
       "      <td>98</td>\n",
       "      <td>28.71</td>\n",
       "      <td>...</td>\n",
       "      <td>117</td>\n",
       "      <td>19.24</td>\n",
       "      <td>165.5</td>\n",
       "      <td>96</td>\n",
       "      <td>7.45</td>\n",
       "      <td>14.3</td>\n",
       "      <td>3</td>\n",
       "      <td>3.86</td>\n",
       "      <td>0</td>\n",
       "      <td>0</td>\n",
       "    </tr>\n",
       "    <tr>\n",
       "      <th>4616</th>\n",
       "      <td>IN</td>\n",
       "      <td>140</td>\n",
       "      <td>415</td>\n",
       "      <td>409-6884</td>\n",
       "      <td>no</td>\n",
       "      <td>no</td>\n",
       "      <td>0</td>\n",
       "      <td>204.7</td>\n",
       "      <td>100</td>\n",
       "      <td>34.80</td>\n",
       "      <td>...</td>\n",
       "      <td>107</td>\n",
       "      <td>10.78</td>\n",
       "      <td>202.8</td>\n",
       "      <td>115</td>\n",
       "      <td>9.13</td>\n",
       "      <td>12.1</td>\n",
       "      <td>4</td>\n",
       "      <td>3.27</td>\n",
       "      <td>2</td>\n",
       "      <td>0</td>\n",
       "    </tr>\n",
       "  </tbody>\n",
       "</table>\n",
       "<p>4617 rows × 21 columns</p>\n",
       "</div>"
      ],
      "text/plain": [
       "     State  Account Length  Area code      Phone International plan  \\\n",
       "0       KS             128        415   382-4657                 no   \n",
       "1       OH             107        415   371-7191                 no   \n",
       "2       NJ             137        415   358-1921                 no   \n",
       "3       OH              84        408   375-9999                yes   \n",
       "4       OK              75        415   330-6626                yes   \n",
       "...    ...             ...        ...        ...                ...   \n",
       "4612    NY              57        510   345-7512                 no   \n",
       "4613    NM             177        408   343-6820                 no   \n",
       "4614    VT              67        408   338-4794                 no   \n",
       "4615    MI              98        415   355-8388                 no   \n",
       "4616    IN             140        415   409-6884                 no   \n",
       "\n",
       "     VMail plan  VMail message  Day mins  Day calls  Day charge  ...  \\\n",
       "0           yes             25     265.1        110       45.07  ...   \n",
       "1           yes             26     161.6        123       27.47  ...   \n",
       "2            no              0     243.4        114       41.38  ...   \n",
       "3            no              0     299.4         71       50.90  ...   \n",
       "4            no              0     166.7        113       28.34  ...   \n",
       "...         ...            ...       ...        ...         ...  ...   \n",
       "4612        yes             25     144.0         81       24.48  ...   \n",
       "4613        yes             29     189.0         91       32.13  ...   \n",
       "4614        yes             33     127.5        126       21.68  ...   \n",
       "4615        yes             23     168.9         98       28.71  ...   \n",
       "4616         no              0     204.7        100       34.80  ...   \n",
       "\n",
       "      Eve calls  Eve charge  Night mins  Night calls  Night charge  \\\n",
       "0            99       16.78       244.7           91         11.01   \n",
       "1           103       16.62       254.4          103         11.45   \n",
       "2           110       10.30       162.6          104          7.32   \n",
       "3            88        5.26       196.9           89          8.86   \n",
       "4           122       12.61       186.9          121          8.41   \n",
       "...         ...         ...         ...          ...           ...   \n",
       "4612        112       15.91       158.6          122          7.14   \n",
       "4613         96       25.76       163.6          116          7.36   \n",
       "4614        129       25.17       200.9           91          9.04   \n",
       "4615        117       19.24       165.5           96          7.45   \n",
       "4616        107       10.78       202.8          115          9.13   \n",
       "\n",
       "      International mins  International calls  International charge  \\\n",
       "0                   10.0                    3                  2.70   \n",
       "1                   13.7                    3                  3.70   \n",
       "2                   12.2                    5                  3.29   \n",
       "3                    6.6                    7                  1.78   \n",
       "4                   10.1                    3                  2.73   \n",
       "...                  ...                  ...                   ...   \n",
       "4612                 8.5                    6                  2.30   \n",
       "4613                15.7                    1                  4.24   \n",
       "4614                13.0                    3                  3.51   \n",
       "4615                14.3                    3                  3.86   \n",
       "4616                12.1                    4                  3.27   \n",
       "\n",
       "      CustServ charge  Churn  \n",
       "0                   1      0  \n",
       "1                   1      0  \n",
       "2                   0      0  \n",
       "3                   2      0  \n",
       "4                   3      0  \n",
       "...               ...    ...  \n",
       "4612                3      0  \n",
       "4613                3      0  \n",
       "4614                1      0  \n",
       "4615                0      0  \n",
       "4616                2      0  \n",
       "\n",
       "[4617 rows x 21 columns]"
      ]
     },
     "execution_count": 27,
     "metadata": {},
     "output_type": "execute_result"
    }
   ],
   "source": [
    "data"
   ]
  },
  {
   "cell_type": "code",
   "execution_count": 28,
   "id": "40809dc3",
   "metadata": {},
   "outputs": [
    {
     "data": {
      "image/png": "[encoded data removed]",
      "text/plain": [
       "<Figure size 1800x700 with 1 Axes>"
      ]
     },
     "metadata": {},
     "output_type": "display_data"
    }
   ],
   "source": [
    "s1= data['State'].unique()\n",
    "s2= data.groupby(['State'])['Churn'].mean()\n",
    "\n",
    "plt.rcParams['figure.figsize'] = (18,7)\n",
    "\n",
    "plt.plot(s1,s2,color='r', marker='o', linewidth=2, markersize=12)\n",
    "\n",
    "plt.title('state churn rate', fontsize = 20)\n",
    "plt.xlabel('state', fontsize=15)\n",
    "plt.ylabel('churn rate', fontsize= 15)\n",
    "plt.show()"
   ]
  },
  {
   "cell_type": "raw",
   "id": "2a8e4094",
   "metadata": {},
   "source": []
  },
  {
   "cell_type": "code",
   "execution_count": 29,
   "id": "4147afeb",
   "metadata": {},
   "outputs": [
    {
     "data": {
      "image/png": "[encoded data removed]",
      "text/plain": [
       "<Figure size 1200x700 with 1 Axes>"
      ]
     },
     "metadata": {},
     "output_type": "display_data"
    }
   ],
   "source": [
    "plt.rcParams['figure.figsize']= (12,7)\n",
    "color = plt.cm.copper(np.linspace(0,0.5,20))\n",
    "((data.groupby(['State'])['Churn'].mean())*100).sort_values(ascending = False).head(6).plot.bar(color = ['violet','indigo','b','g','y','orange','r'])\n",
    "plt.title('State with most churn percentage', fontsize=20)\n",
    "plt.xlabel('State', fontsize=15)\n",
    "plt.ylabel('percentage', fontsize=15)\n",
    "plt.show()"
   ]
  },
  {
   "cell_type": "code",
   "execution_count": 30,
   "id": "69ead34f",
   "metadata": {},
   "outputs": [
    {
     "name": "stdout",
     "output_type": "stream",
     "text": [
      "Churn    0   1  percentage_churn\n",
      "State                           \n",
      "AK      64   5          7.246377\n",
      "AL     104  10          8.771930\n",
      "AR      62  15         19.480519\n",
      "AZ      74   7          8.641975\n",
      "CA      31  13         29.545455\n",
      "CO      81  10         10.989011\n",
      "CT      78  14         15.217391\n",
      "DC      73   9         10.975610\n",
      "DE      75  14         15.730337\n",
      "FL      73  12         14.117647\n",
      "GA      67  10         12.987013\n",
      "HI      74   5          6.329114\n",
      "IA      59   6          9.230769\n",
      "ID      97  13         11.818182\n",
      "IL      72   7          8.860759\n",
      "IN      76  13         14.606742\n",
      "KS      78  18         18.750000\n",
      "KY      77  13         14.444444\n",
      "LA      66   7          9.589041\n",
      "MA      83  14         14.432990\n",
      "MD      72  20         21.739130\n",
      "ME      77  18         18.947368\n",
      "MI      81  17         17.346939\n",
      "MN      94  18         16.071429\n",
      "MO      73  11         13.095238\n",
      "MS      75  16         17.582418\n",
      "MT      73  19         20.652174\n",
      "NC      71  12         14.457831\n",
      "ND      73   7          8.750000\n",
      "NE      73   6          7.594937\n",
      "NH      80  11         12.087912\n",
      "NJ      81  25         23.584906\n",
      "NM      76   8          9.523810\n",
      "NV      72  17         19.101124\n",
      "NY      91  18         16.513761\n",
      "OH      95  15         13.636364\n",
      "OK      65  15         18.750000\n",
      "OR      90  17         15.887850\n",
      "PA      60   8         11.764706\n",
      "RI      83   7          7.777778\n",
      "SC      67  16         19.277108\n",
      "SD      64  12         15.789474\n",
      "TN      71  12         14.457831\n",
      "TX      81  24         22.857143\n",
      "UT      88  16         15.384615\n",
      "VA     103   6          5.504587\n",
      "VT      85  10         10.526316\n",
      "WA      68  21         23.595506\n",
      "WI      91   8          8.080808\n",
      "WV     128  21         14.093960\n",
      "WY      96  10          9.433962\n"
     ]
    }
   ],
   "source": [
    "#calculate state vs churn percentage \n",
    "state_data = pd.crosstab(data['State'],data['Churn'])\n",
    "state_data['percentage_churn'] = state_data.apply(lambda x : x[1]*100/(x[0]+x[1]),axis = 1)\n",
    "print(state_data)"
   ]
  },
  {
   "cell_type": "code",
   "execution_count": 31,
   "id": "fb9d65d0",
   "metadata": {},
   "outputs": [
    {
     "data": {
      "text/plain": [
       "State\n",
       "CA    0.295455\n",
       "WA    0.235955\n",
       "NJ    0.235849\n",
       "TX    0.228571\n",
       "MD    0.217391\n",
       "MT    0.206522\n",
       "AR    0.194805\n",
       "SC    0.192771\n",
       "NV    0.191011\n",
       "ME    0.189474\n",
       "Name: Churn, dtype: float64"
      ]
     },
     "execution_count": 31,
     "metadata": {},
     "output_type": "execute_result"
    }
   ],
   "source": [
    "#show the most churn state of top 10 by ascending the above list \n",
    "data.groupby(['State'])['Churn'].mean().sort_values(ascending=False).head(10)"
   ]
  },
  {
   "cell_type": "raw",
   "id": "da7ee578",
   "metadata": {},
   "source": [
    "there is 51 unique state present who have different churn rate \n",
    "from the above analysis CA,WA,NJ,TX,MD,MT are the ones who have a higher churn rate of more than 20\n",
    "the reason for this churn rate from a particular state maybe due to the low coverage of the cellular network."
   ]
  },
  {
   "cell_type": "markdown",
   "id": "38f30a6c",
   "metadata": {},
   "source": [
    "# Analyzing area code column of feature"
   ]
  },
  {
   "cell_type": "code",
   "execution_count": 32,
   "id": "0f8f01d3",
   "metadata": {},
   "outputs": [
    {
     "name": "stdout",
     "output_type": "stream",
     "text": [
      "Churn         0    1  percentage_churn\n",
      "Area code                             \n",
      "408         996  165         14.211886\n",
      "415        1981  318         13.832101\n",
      "510         984  173         14.952463\n"
     ]
    }
   ],
   "source": [
    "#calculate area code vs churn percentage \n",
    "area_code_data = pd.crosstab(data['Area code'],data['Churn'])\n",
    "area_code_data['percentage_churn']= area_code_data.apply(lambda x : x[1]*100/(x[0]+x[1]),axis=1)\n",
    "print(area_code_data)"
   ]
  },
  {
   "cell_type": "code",
   "execution_count": 33,
   "id": "4a1770e7",
   "metadata": {},
   "outputs": [
    {
     "data": {
      "image/png": "[encoded data removed]",
      "text/plain": [
       "<Figure size 1200x700 with 1 Axes>"
      ]
     },
     "metadata": {},
     "output_type": "display_data"
    }
   ],
   "source": [
    "sns.set(style='darkgrid')\n",
    "ax = sns.countplot(x='Area code', hue='Churn', data=data)\n",
    "plt.show()"
   ]
  },
  {
   "cell_type": "markdown",
   "id": "053d5cd8",
   "metadata": {},
   "source": [
    "In the above data, we notice that there is only 3 unique are there, and the churn rate of these area codes are almost same.\n",
    "we don't think there is any kind of relation present between the 'area code' and 'churn' due to which the customer leaves the operator."
   ]
  },
  {
   "cell_type": "markdown",
   "id": "219936a8",
   "metadata": {},
   "source": [
    "# Analyzing account length column or FEATURE"
   ]
  },
  {
   "cell_type": "code",
   "execution_count": 34,
   "id": "adc7497e",
   "metadata": {},
   "outputs": [],
   "source": [
    "#separating churn and not churned customers \n",
    "churn_df = data[data['Churn'] == bool(True)]\n",
    "not_churn_df = data[data['Churn'] == bool(False)]"
   ]
  },
  {
   "cell_type": "code",
   "execution_count": 35,
   "id": "02fea6eb",
   "metadata": {},
   "outputs": [
    {
     "name": "stderr",
     "output_type": "stream",
     "text": [
      "C:\\ProgramData\\Anaconda3\\lib\\site-packages\\seaborn\\distributions.py:2619: FutureWarning: `distplot` is a deprecated function and will be removed in a future version. Please adapt your code to use either `displot` (a figure-level function with similar flexibility) or `histplot` (an axes-level function for histograms).\n",
      "  warnings.warn(msg, FutureWarning)\n"
     ]
    },
    {
     "data": {
      "text/plain": [
       "<AxesSubplot:xlabel='Account Length', ylabel='Density'>"
      ]
     },
     "execution_count": 35,
     "metadata": {},
     "output_type": "execute_result"
    },
    {
     "data": {
      "image/png": "[encoded data removed]",
      "text/plain": [
       "<Figure size 1200x700 with 1 Axes>"
      ]
     },
     "metadata": {},
     "output_type": "display_data"
    }
   ],
   "source": [
    "sns.distplot(data['Account Length'])"
   ]
  },
  {
   "cell_type": "markdown",
   "id": "ec35d0e9",
   "metadata": {},
   "source": [
    "# Analyzing International Plan "
   ]
  },
  {
   "cell_type": "code",
   "execution_count": 36,
   "id": "60426e40",
   "metadata": {},
   "outputs": [
    {
     "data": {
      "text/plain": [
       " no     4171\n",
       " yes     446\n",
       "Name: International plan, dtype: int64"
      ]
     },
     "execution_count": 36,
     "metadata": {},
     "output_type": "execute_result"
    }
   ],
   "source": [
    "data['International plan'].value_counts()"
   ]
  },
  {
   "cell_type": "code",
   "execution_count": 37,
   "id": "51188992",
   "metadata": {},
   "outputs": [
    {
     "data": {
      "text/plain": [
       "array([' no', ' yes'], dtype=object)"
      ]
     },
     "execution_count": 37,
     "metadata": {},
     "output_type": "execute_result"
    }
   ],
   "source": [
    "data['International plan'].unique()"
   ]
  },
  {
   "cell_type": "code",
   "execution_count": 38,
   "id": "91284837",
   "metadata": {},
   "outputs": [
    {
     "name": "stdout",
     "output_type": "stream",
     "text": [
      "Churn                  0    1  percentage_churn\n",
      "International plan                             \n",
      " no                 3701  470         11.268281\n",
      " yes                 260  186         41.704036\n"
     ]
    }
   ],
   "source": [
    "#calculate the international plan vs churn rate percentage \n",
    "International_plan_data = pd.crosstab(data['International plan'],data['Churn'])\n",
    "International_plan_data['percentage_churn']= International_plan_data.apply(lambda x : x[1]*100/(x[0]+x[1]),axis=1)\n",
    "print(International_plan_data)"
   ]
  },
  {
   "cell_type": "code",
   "execution_count": 39,
   "id": "20e88be6",
   "metadata": {},
   "outputs": [
    {
     "data": {
      "text/plain": [
       "<AxesSubplot:xlabel='International plan', ylabel='count'>"
      ]
     },
     "execution_count": 39,
     "metadata": {},
     "output_type": "execute_result"
    },
    {
     "data": {
      "image/png": "[encoded data removed]",
      "text/plain": [
       "<Figure size 1200x700 with 1 Axes>"
      ]
     },
     "metadata": {},
     "output_type": "display_data"
    }
   ],
   "source": [
    "sns.countplot(x='International plan', hue='Churn', data=data)"
   ]
  },
  {
   "cell_type": "markdown",
   "id": "d054b866",
   "metadata": {},
   "source": [
    "# Analyzing Customer Service calls with respect to churn rate"
   ]
  },
  {
   "cell_type": "code",
   "execution_count": 40,
   "id": "81003ef8",
   "metadata": {},
   "outputs": [
    {
     "data": {
      "text/plain": [
       "1    1651\n",
       "2    1031\n",
       "0     951\n",
       "3     616\n",
       "4     234\n",
       "5      89\n",
       "6      28\n",
       "7      13\n",
       "9       2\n",
       "8       2\n",
       "Name: CustServ charge, dtype: int64"
      ]
     },
     "execution_count": 40,
     "metadata": {},
     "output_type": "execute_result"
    }
   ],
   "source": [
    "data['CustServ charge'].value_counts()"
   ]
  },
  {
   "cell_type": "code",
   "execution_count": 41,
   "id": "06ab5caf",
   "metadata": {},
   "outputs": [
    {
     "name": "stdout",
     "output_type": "stream",
     "text": [
      "Churn               0    1  percentage_churn\n",
      "CustServ charge                             \n",
      "0                 835  116         12.197687\n",
      "1                1475  176         10.660206\n",
      "2                 919  112         10.863240\n",
      "3                 551   65         10.551948\n",
      "4                 130  104         44.444444\n",
      "5                  34   55         61.797753\n",
      "6                  10   18         64.285714\n",
      "7                   6    7         53.846154\n",
      "8                   1    1         50.000000\n",
      "9                   0    2        100.000000\n"
     ]
    }
   ],
   "source": [
    "CustServ_data = pd.crosstab(data['CustServ charge'],data['Churn'])\n",
    "CustServ_data['percentage_churn']= CustServ_data.apply(lambda x : x[1]*100/(x[0]+x[1]),axis=1)\n",
    "print(CustServ_data)"
   ]
  },
  {
   "cell_type": "code",
   "execution_count": 42,
   "id": "804ed8f0",
   "metadata": {},
   "outputs": [
    {
     "data": {
      "text/plain": [
       "<AxesSubplot:xlabel='CustServ charge', ylabel='count'>"
      ]
     },
     "execution_count": 42,
     "metadata": {},
     "output_type": "execute_result"
    },
    {
     "data": {
      "image/png": "[encoded data removed]",
      "text/plain": [
       "<Figure size 1200x700 with 1 Axes>"
      ]
     },
     "metadata": {},
     "output_type": "display_data"
    }
   ],
   "source": [
    "sns.countplot(x='CustServ charge', hue='Churn', data=data)"
   ]
  },
  {
   "cell_type": "code",
   "execution_count": 43,
   "id": "035d20b8",
   "metadata": {},
   "outputs": [],
   "source": [
    "#sns.pairplot(data, height=3)"
   ]
  },
  {
   "cell_type": "markdown",
   "id": "051d39b1",
   "metadata": {},
   "source": [
    "# CONCLUSION AND SUMMARY"
   ]
  },
  {
   "cell_type": "raw",
   "id": "ee5ec313",
   "metadata": {},
   "source": [
    "After performing Exploratory Data Analysis on the dataset , this is what we have inccured from data:\n",
    "    \n",
    "1. There are some states where the churn rate is high as compared to others may be due to low network coverage.\n",
    "2. Area code and account length do not play any kind of role regarding the churn rate so, its redundant data columns or features\n",
    "3. In the international plan those customers who have this plan are column more and also the international calling charges are also high so the \n",
    "    customer who has the plan unsatisfied with network issues and high call charge .\n",
    "4. IN the voice mail section when there are more than 20 voice mail messages then there is a churn so it basically means that the quality of \n",
    "    voice mail is not good\n",
    "5. Total day call minutes, total day calls, total day charge, total eve minutes, total eve calls, total eve charge,total night minuts,\n",
    "    total night calls, total night charge, these columns didn't play any kind of roleregarding the churn rate.\n",
    "6. In international calls data shows that the churn rate of those customers is high, those who take the internaational plan so it means \n",
    "    that is international calls charges are high also there is a call drop or network issue.\n",
    "7. In customer seervice calls data shows us that whenever an unsatisfied customer called the service center the column rate is high,\n",
    "    which means the service center didn't resolve the customer issues."
   ]
  },
  {
   "cell_type": "markdown",
   "id": "5b60fae9",
   "metadata": {},
   "source": [
    "# RECOMMENDATIONS"
   ]
  },
  {
   "cell_type": "raw",
   "id": "48fef8b8",
   "metadata": {},
   "source": [
    "Improve network coverage churned state\n",
    "\n",
    "In International plan provide some discount plan to the customer \n",
    "\n",
    "Improve the voice mail quality or take feedback from the customers \n",
    "\n",
    "Impove the service of call center and take frequently feedback from the customer regarding their issuend try to solve it \n",
    "as soon as possible."
   ]
  },
  {
   "cell_type": "code",
   "execution_count": null,
   "id": "bf217e72",
   "metadata": {},
   "outputs": [],
   "source": []
  },
  {
   "cell_type": "code",
   "execution_count": null,
   "id": "572399fc",
   "metadata": {},
   "outputs": [],
   "source": []
  },
  {
   "cell_type": "markdown",
   "id": "ca992860",
   "metadata": {},
   "source": [
    "# ML Modeling"
   ]
  },
  {
   "cell_type": "code",
   "execution_count": 44,
   "id": "9a54c28a",
   "metadata": {},
   "outputs": [],
   "source": [
    "y = data.Churn"
   ]
  },
  {
   "cell_type": "code",
   "execution_count": 45,
   "id": "ef4097aa",
   "metadata": {},
   "outputs": [
    {
     "data": {
      "text/plain": [
       "0       0\n",
       "1       0\n",
       "2       0\n",
       "3       0\n",
       "4       0\n",
       "       ..\n",
       "4612    0\n",
       "4613    0\n",
       "4614    0\n",
       "4615    0\n",
       "4616    0\n",
       "Name: Churn, Length: 4617, dtype: int64"
      ]
     },
     "execution_count": 45,
     "metadata": {},
     "output_type": "execute_result"
    }
   ],
   "source": [
    "y"
   ]
  },
  {
   "cell_type": "code",
   "execution_count": 46,
   "id": "e5d4567f",
   "metadata": {},
   "outputs": [],
   "source": [
    "X = data.iloc[:,6:-1]"
   ]
  },
  {
   "cell_type": "code",
   "execution_count": 47,
   "id": "baf5c1a0",
   "metadata": {},
   "outputs": [
    {
     "data": {
      "text/html": [
       "<div>\n",
       "<style scoped>\n",
       "    .dataframe tbody tr th:only-of-type {\n",
       "        vertical-align: middle;\n",
       "    }\n",
       "\n",
       "    .dataframe tbody tr th {\n",
       "        vertical-align: top;\n",
       "    }\n",
       "\n",
       "    .dataframe thead th {\n",
       "        text-align: right;\n",
       "    }\n",
       "</style>\n",
       "<table border=\"1\" class=\"dataframe\">\n",
       "  <thead>\n",
       "    <tr style=\"text-align: right;\">\n",
       "      <th></th>\n",
       "      <th>VMail message</th>\n",
       "      <th>Day mins</th>\n",
       "      <th>Day calls</th>\n",
       "      <th>Day charge</th>\n",
       "      <th>Eve mins</th>\n",
       "      <th>Eve calls</th>\n",
       "      <th>Eve charge</th>\n",
       "      <th>Night mins</th>\n",
       "      <th>Night calls</th>\n",
       "      <th>Night charge</th>\n",
       "      <th>International mins</th>\n",
       "      <th>International calls</th>\n",
       "      <th>International charge</th>\n",
       "      <th>CustServ charge</th>\n",
       "    </tr>\n",
       "  </thead>\n",
       "  <tbody>\n",
       "    <tr>\n",
       "      <th>0</th>\n",
       "      <td>25</td>\n",
       "      <td>265.1</td>\n",
       "      <td>110</td>\n",
       "      <td>45.07</td>\n",
       "      <td>197.4</td>\n",
       "      <td>99</td>\n",
       "      <td>16.78</td>\n",
       "      <td>244.7</td>\n",
       "      <td>91</td>\n",
       "      <td>11.01</td>\n",
       "      <td>10.0</td>\n",
       "      <td>3</td>\n",
       "      <td>2.70</td>\n",
       "      <td>1</td>\n",
       "    </tr>\n",
       "    <tr>\n",
       "      <th>1</th>\n",
       "      <td>26</td>\n",
       "      <td>161.6</td>\n",
       "      <td>123</td>\n",
       "      <td>27.47</td>\n",
       "      <td>195.5</td>\n",
       "      <td>103</td>\n",
       "      <td>16.62</td>\n",
       "      <td>254.4</td>\n",
       "      <td>103</td>\n",
       "      <td>11.45</td>\n",
       "      <td>13.7</td>\n",
       "      <td>3</td>\n",
       "      <td>3.70</td>\n",
       "      <td>1</td>\n",
       "    </tr>\n",
       "    <tr>\n",
       "      <th>2</th>\n",
       "      <td>0</td>\n",
       "      <td>243.4</td>\n",
       "      <td>114</td>\n",
       "      <td>41.38</td>\n",
       "      <td>121.2</td>\n",
       "      <td>110</td>\n",
       "      <td>10.30</td>\n",
       "      <td>162.6</td>\n",
       "      <td>104</td>\n",
       "      <td>7.32</td>\n",
       "      <td>12.2</td>\n",
       "      <td>5</td>\n",
       "      <td>3.29</td>\n",
       "      <td>0</td>\n",
       "    </tr>\n",
       "    <tr>\n",
       "      <th>3</th>\n",
       "      <td>0</td>\n",
       "      <td>299.4</td>\n",
       "      <td>71</td>\n",
       "      <td>50.90</td>\n",
       "      <td>61.9</td>\n",
       "      <td>88</td>\n",
       "      <td>5.26</td>\n",
       "      <td>196.9</td>\n",
       "      <td>89</td>\n",
       "      <td>8.86</td>\n",
       "      <td>6.6</td>\n",
       "      <td>7</td>\n",
       "      <td>1.78</td>\n",
       "      <td>2</td>\n",
       "    </tr>\n",
       "    <tr>\n",
       "      <th>4</th>\n",
       "      <td>0</td>\n",
       "      <td>166.7</td>\n",
       "      <td>113</td>\n",
       "      <td>28.34</td>\n",
       "      <td>148.3</td>\n",
       "      <td>122</td>\n",
       "      <td>12.61</td>\n",
       "      <td>186.9</td>\n",
       "      <td>121</td>\n",
       "      <td>8.41</td>\n",
       "      <td>10.1</td>\n",
       "      <td>3</td>\n",
       "      <td>2.73</td>\n",
       "      <td>3</td>\n",
       "    </tr>\n",
       "    <tr>\n",
       "      <th>...</th>\n",
       "      <td>...</td>\n",
       "      <td>...</td>\n",
       "      <td>...</td>\n",
       "      <td>...</td>\n",
       "      <td>...</td>\n",
       "      <td>...</td>\n",
       "      <td>...</td>\n",
       "      <td>...</td>\n",
       "      <td>...</td>\n",
       "      <td>...</td>\n",
       "      <td>...</td>\n",
       "      <td>...</td>\n",
       "      <td>...</td>\n",
       "      <td>...</td>\n",
       "    </tr>\n",
       "    <tr>\n",
       "      <th>4612</th>\n",
       "      <td>25</td>\n",
       "      <td>144.0</td>\n",
       "      <td>81</td>\n",
       "      <td>24.48</td>\n",
       "      <td>187.2</td>\n",
       "      <td>112</td>\n",
       "      <td>15.91</td>\n",
       "      <td>158.6</td>\n",
       "      <td>122</td>\n",
       "      <td>7.14</td>\n",
       "      <td>8.5</td>\n",
       "      <td>6</td>\n",
       "      <td>2.30</td>\n",
       "      <td>3</td>\n",
       "    </tr>\n",
       "    <tr>\n",
       "      <th>4613</th>\n",
       "      <td>29</td>\n",
       "      <td>189.0</td>\n",
       "      <td>91</td>\n",
       "      <td>32.13</td>\n",
       "      <td>303.1</td>\n",
       "      <td>96</td>\n",
       "      <td>25.76</td>\n",
       "      <td>163.6</td>\n",
       "      <td>116</td>\n",
       "      <td>7.36</td>\n",
       "      <td>15.7</td>\n",
       "      <td>1</td>\n",
       "      <td>4.24</td>\n",
       "      <td>3</td>\n",
       "    </tr>\n",
       "    <tr>\n",
       "      <th>4614</th>\n",
       "      <td>33</td>\n",
       "      <td>127.5</td>\n",
       "      <td>126</td>\n",
       "      <td>21.68</td>\n",
       "      <td>296.1</td>\n",
       "      <td>129</td>\n",
       "      <td>25.17</td>\n",
       "      <td>200.9</td>\n",
       "      <td>91</td>\n",
       "      <td>9.04</td>\n",
       "      <td>13.0</td>\n",
       "      <td>3</td>\n",
       "      <td>3.51</td>\n",
       "      <td>1</td>\n",
       "    </tr>\n",
       "    <tr>\n",
       "      <th>4615</th>\n",
       "      <td>23</td>\n",
       "      <td>168.9</td>\n",
       "      <td>98</td>\n",
       "      <td>28.71</td>\n",
       "      <td>226.3</td>\n",
       "      <td>117</td>\n",
       "      <td>19.24</td>\n",
       "      <td>165.5</td>\n",
       "      <td>96</td>\n",
       "      <td>7.45</td>\n",
       "      <td>14.3</td>\n",
       "      <td>3</td>\n",
       "      <td>3.86</td>\n",
       "      <td>0</td>\n",
       "    </tr>\n",
       "    <tr>\n",
       "      <th>4616</th>\n",
       "      <td>0</td>\n",
       "      <td>204.7</td>\n",
       "      <td>100</td>\n",
       "      <td>34.80</td>\n",
       "      <td>126.8</td>\n",
       "      <td>107</td>\n",
       "      <td>10.78</td>\n",
       "      <td>202.8</td>\n",
       "      <td>115</td>\n",
       "      <td>9.13</td>\n",
       "      <td>12.1</td>\n",
       "      <td>4</td>\n",
       "      <td>3.27</td>\n",
       "      <td>2</td>\n",
       "    </tr>\n",
       "  </tbody>\n",
       "</table>\n",
       "<p>4617 rows × 14 columns</p>\n",
       "</div>"
      ],
      "text/plain": [
       "      VMail message  Day mins  Day calls  Day charge  Eve mins  Eve calls  \\\n",
       "0                25     265.1        110       45.07     197.4         99   \n",
       "1                26     161.6        123       27.47     195.5        103   \n",
       "2                 0     243.4        114       41.38     121.2        110   \n",
       "3                 0     299.4         71       50.90      61.9         88   \n",
       "4                 0     166.7        113       28.34     148.3        122   \n",
       "...             ...       ...        ...         ...       ...        ...   \n",
       "4612             25     144.0         81       24.48     187.2        112   \n",
       "4613             29     189.0         91       32.13     303.1         96   \n",
       "4614             33     127.5        126       21.68     296.1        129   \n",
       "4615             23     168.9         98       28.71     226.3        117   \n",
       "4616              0     204.7        100       34.80     126.8        107   \n",
       "\n",
       "      Eve charge  Night mins  Night calls  Night charge  International mins  \\\n",
       "0          16.78       244.7           91         11.01                10.0   \n",
       "1          16.62       254.4          103         11.45                13.7   \n",
       "2          10.30       162.6          104          7.32                12.2   \n",
       "3           5.26       196.9           89          8.86                 6.6   \n",
       "4          12.61       186.9          121          8.41                10.1   \n",
       "...          ...         ...          ...           ...                 ...   \n",
       "4612       15.91       158.6          122          7.14                 8.5   \n",
       "4613       25.76       163.6          116          7.36                15.7   \n",
       "4614       25.17       200.9           91          9.04                13.0   \n",
       "4615       19.24       165.5           96          7.45                14.3   \n",
       "4616       10.78       202.8          115          9.13                12.1   \n",
       "\n",
       "      International calls  International charge  CustServ charge  \n",
       "0                       3                  2.70                1  \n",
       "1                       3                  3.70                1  \n",
       "2                       5                  3.29                0  \n",
       "3                       7                  1.78                2  \n",
       "4                       3                  2.73                3  \n",
       "...                   ...                   ...              ...  \n",
       "4612                    6                  2.30                3  \n",
       "4613                    1                  4.24                3  \n",
       "4614                    3                  3.51                1  \n",
       "4615                    3                  3.86                0  \n",
       "4616                    4                  3.27                2  \n",
       "\n",
       "[4617 rows x 14 columns]"
      ]
     },
     "execution_count": 47,
     "metadata": {},
     "output_type": "execute_result"
    }
   ],
   "source": [
    "X"
   ]
  },
  {
   "cell_type": "code",
   "execution_count": 48,
   "id": "e0abcbe2",
   "metadata": {
    "scrolled": true
   },
   "outputs": [],
   "source": [
    "from sklearn.model_selection import train_test_split"
   ]
  },
  {
   "cell_type": "code",
   "execution_count": 49,
   "id": "9c6b819c",
   "metadata": {},
   "outputs": [],
   "source": [
    "X_train, X_test, y_train, y_test = train_test_split(X,y, test_size=0.2, random_state=42)"
   ]
  },
  {
   "cell_type": "markdown",
   "id": "a40e9127",
   "metadata": {},
   "source": [
    "# Clasification Model"
   ]
  },
  {
   "cell_type": "markdown",
   "id": "b2fba524",
   "metadata": {},
   "source": [
    "# Logistic Regression"
   ]
  },
  {
   "cell_type": "code",
   "execution_count": 50,
   "id": "07ae040c",
   "metadata": {},
   "outputs": [],
   "source": [
    "from sklearn.linear_model import LogisticRegression"
   ]
  },
  {
   "cell_type": "code",
   "execution_count": 51,
   "id": "96cb8fda",
   "metadata": {},
   "outputs": [],
   "source": [
    "model_logr = LogisticRegression()"
   ]
  },
  {
   "cell_type": "code",
   "execution_count": 52,
   "id": "75cf49dc",
   "metadata": {},
   "outputs": [
    {
     "name": "stderr",
     "output_type": "stream",
     "text": [
      "C:\\ProgramData\\Anaconda3\\lib\\site-packages\\sklearn\\linear_model\\_logistic.py:814: ConvergenceWarning: lbfgs failed to converge (status=1):\n",
      "STOP: TOTAL NO. of ITERATIONS REACHED LIMIT.\n",
      "\n",
      "Increase the number of iterations (max_iter) or scale the data as shown in:\n",
      "    https://scikit-learn.org/stable/modules/preprocessing.html\n",
      "Please also refer to the documentation for alternative solver options:\n",
      "    https://scikit-learn.org/stable/modules/linear_model.html#logistic-regression\n",
      "  n_iter_i = _check_optimize_result(\n"
     ]
    },
    {
     "data": {
      "text/plain": [
       "LogisticRegression()"
      ]
     },
     "execution_count": 52,
     "metadata": {},
     "output_type": "execute_result"
    }
   ],
   "source": [
    "model_logr.fit(X_train, y_train)"
   ]
  },
  {
   "cell_type": "code",
   "execution_count": 124,
   "id": "64a3a057",
   "metadata": {},
   "outputs": [],
   "source": [
    "predict_logr = model_logr.predict(X_test)"
   ]
  },
  {
   "cell_type": "code",
   "execution_count": 54,
   "id": "f9517df6",
   "metadata": {},
   "outputs": [],
   "source": [
    "from sklearn.metrics import accuracy_score, confusion_matrix"
   ]
  },
  {
   "cell_type": "code",
   "execution_count": 125,
   "id": "c45f1cd0",
   "metadata": {},
   "outputs": [
    {
     "data": {
      "text/plain": [
       "86.36363636363636"
      ]
     },
     "execution_count": 125,
     "metadata": {},
     "output_type": "execute_result"
    }
   ],
   "source": [
    "accuracy_score(predict_logr,y_test)*100"
   ]
  },
  {
   "cell_type": "code",
   "execution_count": 88,
   "id": "d63abbf2",
   "metadata": {},
   "outputs": [
    {
     "data": {
      "text/plain": [
       "array([[794, 121],\n",
       "       [  5,   4]], dtype=int64)"
      ]
     },
     "execution_count": 88,
     "metadata": {},
     "output_type": "execute_result"
    }
   ],
   "source": [
    "confusion_matrix(predict_logr,y_test)"
   ]
  },
  {
   "cell_type": "code",
   "execution_count": null,
   "id": "1b1415ae",
   "metadata": {},
   "outputs": [],
   "source": []
  },
  {
   "cell_type": "code",
   "execution_count": 130,
   "id": "a28fe8a9",
   "metadata": {},
   "outputs": [
    {
     "name": "stdout",
     "output_type": "stream",
     "text": [
      "Accuracy :  0.8636363636363636\n",
      "Recall :  0.032\n",
      "F1 score :  0.059701492537313425\n",
      "Precision :  0.4444444444444444\n"
     ]
    }
   ],
   "source": [
    "# performance analysis On test data\n",
    "from sklearn import metrics\n",
    "ypred = model_logr.predict(X_test)\n",
    "print(\"Accuracy : \",metrics.accuracy_score(y_test,ypred2))\n",
    "print(\"Recall : \",metrics.recall_score(y_test,ypred2))\n",
    "print(\"F1 score : \",metrics.f1_score(y_test,ypred2))\n",
    "print(\"Precision : \",metrics.precision_score(y_test,ypred2))"
   ]
  },
  {
   "cell_type": "code",
   "execution_count": 131,
   "id": "6a04699d",
   "metadata": {},
   "outputs": [
    {
     "name": "stdout",
     "output_type": "stream",
     "text": [
      "Accuracy :  0.8545897644191714\n",
      "Recall :  0.0583804143126177\n",
      "F1 score :  0.10350584307178631\n",
      "Precision :  0.45588235294117646\n"
     ]
    }
   ],
   "source": [
    "# performance analysis on train data\n",
    "from sklearn import metrics\n",
    "ypred2 = model_logr.predict(X_train)\n",
    "print(\"Accuracy : \",metrics.accuracy_score(y_train,ypred2))\n",
    "print(\"Recall : \",metrics.recall_score(y_train,ypred2))\n",
    "print(\"F1 score : \",metrics.f1_score(y_train,ypred2))\n",
    "print(\"Precision : \",metrics.precision_score(y_train,ypred2))"
   ]
  },
  {
   "cell_type": "code",
   "execution_count": null,
   "id": "23979eeb",
   "metadata": {},
   "outputs": [],
   "source": []
  },
  {
   "cell_type": "code",
   "execution_count": 110,
   "id": "dac1002b",
   "metadata": {},
   "outputs": [
    {
     "name": "stderr",
     "output_type": "stream",
     "text": [
      "C:\\ProgramData\\Anaconda3\\lib\\site-packages\\sklearn\\neighbors\\_classification.py:228: FutureWarning: Unlike other reduction functions (e.g. `skew`, `kurtosis`), the default behavior of `mode` typically preserves the axis it acts along. In SciPy 1.11.0, this behavior will change: the default value of `keepdims` will become False, the `axis` over which the statistic is taken will be eliminated, and the value None will no longer be accepted. Set `keepdims` to True or False to avoid this warning.\n",
      "  mode, _ = stats.mode(_y[neigh_ind, k], axis=1)\n"
     ]
    },
    {
     "data": {
      "text/plain": [
       "88.41991341991343"
      ]
     },
     "execution_count": 110,
     "metadata": {},
     "output_type": "execute_result"
    }
   ],
   "source": [
    "# KNN Classifier\n",
    "\n",
    "from sklearn.neighbors import KNeighborsClassifier\n",
    "\n",
    "model_knc = KNeighborsClassifier()\n",
    "\n",
    "model_knc.fit(X_train,y_train)\n",
    "\n",
    "predict_knc = model_knc.predict(X_test)\n",
    "\n",
    "accuracy_score(predict_knc,y_test)*100"
   ]
  },
  {
   "cell_type": "code",
   "execution_count": 109,
   "id": "17e12117",
   "metadata": {},
   "outputs": [
    {
     "data": {
      "text/plain": [
       "array([[783,  91],\n",
       "       [ 16,  34]], dtype=int64)"
      ]
     },
     "execution_count": 109,
     "metadata": {},
     "output_type": "execute_result"
    }
   ],
   "source": [
    "confusion_matrix(predict_knc,y_test)"
   ]
  },
  {
   "cell_type": "code",
   "execution_count": 97,
   "id": "5f5fd157",
   "metadata": {},
   "outputs": [
    {
     "data": {
      "text/plain": [
       "85.06493506493507"
      ]
     },
     "execution_count": 97,
     "metadata": {},
     "output_type": "execute_result"
    }
   ],
   "source": [
    "# Decision Tree Classifier\n",
    "\n",
    "from sklearn.tree import DecisionTreeClassifier\n",
    "\n",
    "model_dtc = DecisionTreeClassifier()\n",
    "\n",
    "model_dtc.fit(X_train,y_train)\n",
    "\n",
    "predict_dtc = model_dtc.predict(X_test)\n",
    "\n",
    "accuracy_score(predict_dtc,y_test)*100"
   ]
  },
  {
   "cell_type": "code",
   "execution_count": 98,
   "id": "a4c618ca",
   "metadata": {},
   "outputs": [
    {
     "data": {
      "text/plain": [
       "array([[714,  53],\n",
       "       [ 85,  72]], dtype=int64)"
      ]
     },
     "execution_count": 98,
     "metadata": {},
     "output_type": "execute_result"
    }
   ],
   "source": [
    "confusion_matrix(predict_dtc,y_test)"
   ]
  },
  {
   "cell_type": "code",
   "execution_count": 116,
   "id": "2926fa05",
   "metadata": {},
   "outputs": [
    {
     "data": {
      "text/plain": [
       "0.9285714285714286"
      ]
     },
     "execution_count": 116,
     "metadata": {},
     "output_type": "execute_result"
    }
   ],
   "source": [
    "# Random Forest Reggresorm\n",
    "\n",
    "from sklearn.ensemble import RandomForestClassifier\n",
    "\n",
    "model_rfc = RandomForestClassifier()\n",
    "\n",
    "model_rfc.fit(X_train,y_train)\n",
    "\n",
    "predict_rfc = model_rfc.predict(X_test)\n",
    "\n",
    "accuracy_score(predict_rfc,y_test)"
   ]
  },
  {
   "cell_type": "code",
   "execution_count": 117,
   "id": "2feb3945",
   "metadata": {},
   "outputs": [
    {
     "data": {
      "text/plain": [
       "array([[793,  60],\n",
       "       [  6,  65]], dtype=int64)"
      ]
     },
     "execution_count": 117,
     "metadata": {},
     "output_type": "execute_result"
    }
   ],
   "source": [
    "confusion_matrix(predict_rfc,y_test)"
   ]
  },
  {
   "cell_type": "code",
   "execution_count": 118,
   "id": "68a57f26",
   "metadata": {},
   "outputs": [
    {
     "data": {
      "text/plain": [
       "87.12121212121212"
      ]
     },
     "execution_count": 118,
     "metadata": {},
     "output_type": "execute_result"
    }
   ],
   "source": [
    "# Support Vector Machine\n",
    "\n",
    "from sklearn.svm import SVC\n",
    "\n",
    "model_svc = SVC()\n",
    "\n",
    "model_svc.fit(X_train,y_train)\n",
    "\n",
    "predict_svc = model_svc.predict(X_test)\n",
    "\n",
    "accuracy_score(predict_svc,y_test)*100"
   ]
  },
  {
   "cell_type": "code",
   "execution_count": 119,
   "id": "4e74d7d7",
   "metadata": {},
   "outputs": [
    {
     "data": {
      "text/plain": [
       "array([[798, 118],\n",
       "       [  1,   7]], dtype=int64)"
      ]
     },
     "execution_count": 119,
     "metadata": {},
     "output_type": "execute_result"
    }
   ],
   "source": [
    "confusion_matrix(predict_svc,y_test)"
   ]
  },
  {
   "cell_type": "code",
   "execution_count": null,
   "id": "6767ed66",
   "metadata": {},
   "outputs": [],
   "source": []
  },
  {
   "cell_type": "code",
   "execution_count": null,
   "id": "e8cc3f1d",
   "metadata": {},
   "outputs": [],
   "source": []
  }
 ],
 "metadata": {
  "kernelspec": {
   "display_name": "Python 3 (ipykernel)",
   "language": "python",
   "name": "python3"
  },
  "language_info": {
   "codemirror_mode": {
    "name": "ipython",
    "version": 3
   },
   "file_extension": ".py",
   "mimetype": "text/x-python",
   "name": "python",
   "nbconvert_exporter": "python",
   "pygments_lexer": "ipython3",
   "version": "3.9.13"
  }
 },
 "nbformat": 4,
 "nbformat_minor": 5
}
